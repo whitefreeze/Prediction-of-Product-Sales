{
  "nbformat": 4,
  "nbformat_minor": 0,
  "metadata": {
    "colab": {
      "provenance": [],
      "toc_visible": true,
      "authorship_tag": "ABX9TyP4EKLFXbXZl03X89Giv52H",
      "include_colab_link": true
    },
    "kernelspec": {
      "name": "python3",
      "display_name": "Python 3"
    },
    "language_info": {
      "name": "python"
    }
  },
  "cells": [
    {
      "cell_type": "markdown",
      "metadata": {
        "id": "view-in-github",
        "colab_type": "text"
      },
      "source": [
        "<a href=\"https://colab.research.google.com/github/whitefreeze/Prediction-of-Product-Sales/blob/main/Prediction_of_Product_Sales_Part3.ipynb\" target=\"_parent\"><img src=\"https://colab.research.google.com/assets/colab-badge.svg\" alt=\"Open In Colab\"/></a>"
      ]
    },
    {
      "cell_type": "markdown",
      "source": [
        "# Project 1 - Part 2 "
      ],
      "metadata": {
        "id": "zFopFn96dmyl"
      }
    },
    {
      "cell_type": "markdown",
      "source": [
        "## Connect to Data"
      ],
      "metadata": {
        "id": "v7E8lvmDdxg8"
      }
    },
    {
      "cell_type": "code",
      "source": [
        "# Mount Google Drive\n",
        "from google.colab import drive\n",
        "drive.mount ('/content/drive')"
      ],
      "metadata": {
        "colab": {
          "base_uri": "https://localhost:8080/"
        },
        "id": "cbdbURkocxzq",
        "outputId": "4ad9bde3-5726-4f8a-f8ed-e0501eb06520"
      },
      "execution_count": 2,
      "outputs": [
        {
          "output_type": "stream",
          "name": "stdout",
          "text": [
            "Mounted at /content/drive\n"
          ]
        }
      ]
    },
    {
      "cell_type": "code",
      "execution_count": 3,
      "metadata": {
        "id": "eKTQ6tOiiJlA"
      },
      "outputs": [],
      "source": [
        "# Import Libraries\n",
        "import pandas as pd\n",
        "import matplotlib.pyplot as plt\t\t\t\n",
        "import seaborn as sns\n",
        "import numpy as np\n",
        "\n",
        "## Filter ALL warnings\n",
        "import warnings\n",
        "warnings.filterwarnings('ignore')"
      ]
    },
    {
      "cell_type": "code",
      "source": [
        "# Load Data\n",
        "filename = '/content/drive/MyDrive/Data Science/Coding Dojo/02 Week 2: Pandas/sales_predictions.csv'\n",
        "df = pd.read_csv(filename)"
      ],
      "metadata": {
        "id": "4mdJGarBc53J"
      },
      "execution_count": 4,
      "outputs": []
    },
    {
      "cell_type": "code",
      "source": [
        "# Inspect Data\n",
        "df.head()"
      ],
      "metadata": {
        "colab": {
          "base_uri": "https://localhost:8080/",
          "height": 353
        },
        "id": "87s80osYdS0V",
        "outputId": "1e46099d-a266-47e8-d482-f4a77be95c6c"
      },
      "execution_count": 5,
      "outputs": [
        {
          "output_type": "execute_result",
          "data": {
            "text/plain": [
              "  Item_Identifier  Item_Weight Item_Fat_Content  Item_Visibility  \\\n",
              "0           FDA15         9.30          Low Fat         0.016047   \n",
              "1           DRC01         5.92          Regular         0.019278   \n",
              "2           FDN15        17.50          Low Fat         0.016760   \n",
              "3           FDX07        19.20          Regular         0.000000   \n",
              "4           NCD19         8.93          Low Fat         0.000000   \n",
              "\n",
              "               Item_Type  Item_MRP Outlet_Identifier  \\\n",
              "0                  Dairy  249.8092            OUT049   \n",
              "1            Soft Drinks   48.2692            OUT018   \n",
              "2                   Meat  141.6180            OUT049   \n",
              "3  Fruits and Vegetables  182.0950            OUT010   \n",
              "4              Household   53.8614            OUT013   \n",
              "\n",
              "   Outlet_Establishment_Year Outlet_Size Outlet_Location_Type  \\\n",
              "0                       1999      Medium               Tier 1   \n",
              "1                       2009      Medium               Tier 3   \n",
              "2                       1999      Medium               Tier 1   \n",
              "3                       1998         NaN               Tier 3   \n",
              "4                       1987        High               Tier 3   \n",
              "\n",
              "         Outlet_Type  Item_Outlet_Sales  \n",
              "0  Supermarket Type1          3735.1380  \n",
              "1  Supermarket Type2           443.4228  \n",
              "2  Supermarket Type1          2097.2700  \n",
              "3      Grocery Store           732.3800  \n",
              "4  Supermarket Type1           994.7052  "
            ],
            "text/html": [
              "\n",
              "  <div id=\"df-35f4d83b-cfe3-4660-bdeb-e2c1b8dadde2\">\n",
              "    <div class=\"colab-df-container\">\n",
              "      <div>\n",
              "<style scoped>\n",
              "    .dataframe tbody tr th:only-of-type {\n",
              "        vertical-align: middle;\n",
              "    }\n",
              "\n",
              "    .dataframe tbody tr th {\n",
              "        vertical-align: top;\n",
              "    }\n",
              "\n",
              "    .dataframe thead th {\n",
              "        text-align: right;\n",
              "    }\n",
              "</style>\n",
              "<table border=\"1\" class=\"dataframe\">\n",
              "  <thead>\n",
              "    <tr style=\"text-align: right;\">\n",
              "      <th></th>\n",
              "      <th>Item_Identifier</th>\n",
              "      <th>Item_Weight</th>\n",
              "      <th>Item_Fat_Content</th>\n",
              "      <th>Item_Visibility</th>\n",
              "      <th>Item_Type</th>\n",
              "      <th>Item_MRP</th>\n",
              "      <th>Outlet_Identifier</th>\n",
              "      <th>Outlet_Establishment_Year</th>\n",
              "      <th>Outlet_Size</th>\n",
              "      <th>Outlet_Location_Type</th>\n",
              "      <th>Outlet_Type</th>\n",
              "      <th>Item_Outlet_Sales</th>\n",
              "    </tr>\n",
              "  </thead>\n",
              "  <tbody>\n",
              "    <tr>\n",
              "      <th>0</th>\n",
              "      <td>FDA15</td>\n",
              "      <td>9.30</td>\n",
              "      <td>Low Fat</td>\n",
              "      <td>0.016047</td>\n",
              "      <td>Dairy</td>\n",
              "      <td>249.8092</td>\n",
              "      <td>OUT049</td>\n",
              "      <td>1999</td>\n",
              "      <td>Medium</td>\n",
              "      <td>Tier 1</td>\n",
              "      <td>Supermarket Type1</td>\n",
              "      <td>3735.1380</td>\n",
              "    </tr>\n",
              "    <tr>\n",
              "      <th>1</th>\n",
              "      <td>DRC01</td>\n",
              "      <td>5.92</td>\n",
              "      <td>Regular</td>\n",
              "      <td>0.019278</td>\n",
              "      <td>Soft Drinks</td>\n",
              "      <td>48.2692</td>\n",
              "      <td>OUT018</td>\n",
              "      <td>2009</td>\n",
              "      <td>Medium</td>\n",
              "      <td>Tier 3</td>\n",
              "      <td>Supermarket Type2</td>\n",
              "      <td>443.4228</td>\n",
              "    </tr>\n",
              "    <tr>\n",
              "      <th>2</th>\n",
              "      <td>FDN15</td>\n",
              "      <td>17.50</td>\n",
              "      <td>Low Fat</td>\n",
              "      <td>0.016760</td>\n",
              "      <td>Meat</td>\n",
              "      <td>141.6180</td>\n",
              "      <td>OUT049</td>\n",
              "      <td>1999</td>\n",
              "      <td>Medium</td>\n",
              "      <td>Tier 1</td>\n",
              "      <td>Supermarket Type1</td>\n",
              "      <td>2097.2700</td>\n",
              "    </tr>\n",
              "    <tr>\n",
              "      <th>3</th>\n",
              "      <td>FDX07</td>\n",
              "      <td>19.20</td>\n",
              "      <td>Regular</td>\n",
              "      <td>0.000000</td>\n",
              "      <td>Fruits and Vegetables</td>\n",
              "      <td>182.0950</td>\n",
              "      <td>OUT010</td>\n",
              "      <td>1998</td>\n",
              "      <td>NaN</td>\n",
              "      <td>Tier 3</td>\n",
              "      <td>Grocery Store</td>\n",
              "      <td>732.3800</td>\n",
              "    </tr>\n",
              "    <tr>\n",
              "      <th>4</th>\n",
              "      <td>NCD19</td>\n",
              "      <td>8.93</td>\n",
              "      <td>Low Fat</td>\n",
              "      <td>0.000000</td>\n",
              "      <td>Household</td>\n",
              "      <td>53.8614</td>\n",
              "      <td>OUT013</td>\n",
              "      <td>1987</td>\n",
              "      <td>High</td>\n",
              "      <td>Tier 3</td>\n",
              "      <td>Supermarket Type1</td>\n",
              "      <td>994.7052</td>\n",
              "    </tr>\n",
              "  </tbody>\n",
              "</table>\n",
              "</div>\n",
              "      <button class=\"colab-df-convert\" onclick=\"convertToInteractive('df-35f4d83b-cfe3-4660-bdeb-e2c1b8dadde2')\"\n",
              "              title=\"Convert this dataframe to an interactive table.\"\n",
              "              style=\"display:none;\">\n",
              "        \n",
              "  <svg xmlns=\"http://www.w3.org/2000/svg\" height=\"24px\"viewBox=\"0 0 24 24\"\n",
              "       width=\"24px\">\n",
              "    <path d=\"M0 0h24v24H0V0z\" fill=\"none\"/>\n",
              "    <path d=\"M18.56 5.44l.94 2.06.94-2.06 2.06-.94-2.06-.94-.94-2.06-.94 2.06-2.06.94zm-11 1L8.5 8.5l.94-2.06 2.06-.94-2.06-.94L8.5 2.5l-.94 2.06-2.06.94zm10 10l.94 2.06.94-2.06 2.06-.94-2.06-.94-.94-2.06-.94 2.06-2.06.94z\"/><path d=\"M17.41 7.96l-1.37-1.37c-.4-.4-.92-.59-1.43-.59-.52 0-1.04.2-1.43.59L10.3 9.45l-7.72 7.72c-.78.78-.78 2.05 0 2.83L4 21.41c.39.39.9.59 1.41.59.51 0 1.02-.2 1.41-.59l7.78-7.78 2.81-2.81c.8-.78.8-2.07 0-2.86zM5.41 20L4 18.59l7.72-7.72 1.47 1.35L5.41 20z\"/>\n",
              "  </svg>\n",
              "      </button>\n",
              "      \n",
              "  <style>\n",
              "    .colab-df-container {\n",
              "      display:flex;\n",
              "      flex-wrap:wrap;\n",
              "      gap: 12px;\n",
              "    }\n",
              "\n",
              "    .colab-df-convert {\n",
              "      background-color: #E8F0FE;\n",
              "      border: none;\n",
              "      border-radius: 50%;\n",
              "      cursor: pointer;\n",
              "      display: none;\n",
              "      fill: #1967D2;\n",
              "      height: 32px;\n",
              "      padding: 0 0 0 0;\n",
              "      width: 32px;\n",
              "    }\n",
              "\n",
              "    .colab-df-convert:hover {\n",
              "      background-color: #E2EBFA;\n",
              "      box-shadow: 0px 1px 2px rgba(60, 64, 67, 0.3), 0px 1px 3px 1px rgba(60, 64, 67, 0.15);\n",
              "      fill: #174EA6;\n",
              "    }\n",
              "\n",
              "    [theme=dark] .colab-df-convert {\n",
              "      background-color: #3B4455;\n",
              "      fill: #D2E3FC;\n",
              "    }\n",
              "\n",
              "    [theme=dark] .colab-df-convert:hover {\n",
              "      background-color: #434B5C;\n",
              "      box-shadow: 0px 1px 3px 1px rgba(0, 0, 0, 0.15);\n",
              "      filter: drop-shadow(0px 1px 2px rgba(0, 0, 0, 0.3));\n",
              "      fill: #FFFFFF;\n",
              "    }\n",
              "  </style>\n",
              "\n",
              "      <script>\n",
              "        const buttonEl =\n",
              "          document.querySelector('#df-35f4d83b-cfe3-4660-bdeb-e2c1b8dadde2 button.colab-df-convert');\n",
              "        buttonEl.style.display =\n",
              "          google.colab.kernel.accessAllowed ? 'block' : 'none';\n",
              "\n",
              "        async function convertToInteractive(key) {\n",
              "          const element = document.querySelector('#df-35f4d83b-cfe3-4660-bdeb-e2c1b8dadde2');\n",
              "          const dataTable =\n",
              "            await google.colab.kernel.invokeFunction('convertToInteractive',\n",
              "                                                     [key], {});\n",
              "          if (!dataTable) return;\n",
              "\n",
              "          const docLinkHtml = 'Like what you see? Visit the ' +\n",
              "            '<a target=\"_blank\" href=https://colab.research.google.com/notebooks/data_table.ipynb>data table notebook</a>'\n",
              "            + ' to learn more about interactive tables.';\n",
              "          element.innerHTML = '';\n",
              "          dataTable['output_type'] = 'display_data';\n",
              "          await google.colab.output.renderOutput(dataTable, element);\n",
              "          const docLink = document.createElement('div');\n",
              "          docLink.innerHTML = docLinkHtml;\n",
              "          element.appendChild(docLink);\n",
              "        }\n",
              "      </script>\n",
              "    </div>\n",
              "  </div>\n",
              "  "
            ]
          },
          "metadata": {},
          "execution_count": 5
        }
      ]
    },
    {
      "cell_type": "code",
      "source": [
        "# Inspect Data\n",
        "df.info()"
      ],
      "metadata": {
        "colab": {
          "base_uri": "https://localhost:8080/"
        },
        "id": "lt-UVKUHdWFI",
        "outputId": "e7e727c2-4250-4e99-b1ae-67219389587e"
      },
      "execution_count": 6,
      "outputs": [
        {
          "output_type": "stream",
          "name": "stdout",
          "text": [
            "<class 'pandas.core.frame.DataFrame'>\n",
            "RangeIndex: 8523 entries, 0 to 8522\n",
            "Data columns (total 12 columns):\n",
            " #   Column                     Non-Null Count  Dtype  \n",
            "---  ------                     --------------  -----  \n",
            " 0   Item_Identifier            8523 non-null   object \n",
            " 1   Item_Weight                7060 non-null   float64\n",
            " 2   Item_Fat_Content           8523 non-null   object \n",
            " 3   Item_Visibility            8523 non-null   float64\n",
            " 4   Item_Type                  8523 non-null   object \n",
            " 5   Item_MRP                   8523 non-null   float64\n",
            " 6   Outlet_Identifier          8523 non-null   object \n",
            " 7   Outlet_Establishment_Year  8523 non-null   int64  \n",
            " 8   Outlet_Size                6113 non-null   object \n",
            " 9   Outlet_Location_Type       8523 non-null   object \n",
            " 10  Outlet_Type                8523 non-null   object \n",
            " 11  Item_Outlet_Sales          8523 non-null   float64\n",
            "dtypes: float64(4), int64(1), object(7)\n",
            "memory usage: 799.2+ KB\n"
          ]
        }
      ]
    },
    {
      "cell_type": "markdown",
      "source": [
        "## Data Cleaning"
      ],
      "metadata": {
        "id": "u4L2FrLId7su"
      }
    },
    {
      "cell_type": "markdown",
      "source": [
        "* Explore the data - what do you need to do to clean this data? Clean it!"
      ],
      "metadata": {
        "id": "C3xr7ciIaVDR"
      }
    },
    {
      "cell_type": "markdown",
      "source": [
        "### Rows & Columns\n",
        "\n",
        "1. How many rows and columns?"
      ],
      "metadata": {
        "id": "YkMoS6y8abFy"
      }
    },
    {
      "cell_type": "code",
      "source": [
        "# display the number of rows and columns in the dataframe\n",
        "df.shape"
      ],
      "metadata": {
        "colab": {
          "base_uri": "https://localhost:8080/"
        },
        "id": "aAKP1QqRxb2_",
        "outputId": "babdad01-f76a-45a2-e6d8-c69e80a4897d"
      },
      "execution_count": 7,
      "outputs": [
        {
          "output_type": "execute_result",
          "data": {
            "text/plain": [
              "(8523, 12)"
            ]
          },
          "metadata": {},
          "execution_count": 7
        }
      ]
    },
    {
      "cell_type": "markdown",
      "source": [
        "* There are 8,523 rows and 12 columns"
      ],
      "metadata": {
        "id": "KcPxOCsQxo4g"
      }
    },
    {
      "cell_type": "markdown",
      "source": [
        "### Datatypes\n",
        "\n",
        "2. What are the datatypes of each variable?"
      ],
      "metadata": {
        "id": "8fTUbcdRakFl"
      }
    },
    {
      "cell_type": "code",
      "source": [
        "# Display the column names and datatypes for each\n",
        "# Columns with strings or mixed datatypes are identified as an object for the datatype\n",
        "df.dtypes"
      ],
      "metadata": {
        "colab": {
          "base_uri": "https://localhost:8080/"
        },
        "id": "9E-WbB5Xxya5",
        "outputId": "2341a8b6-ba46-4712-9703-58a07db34380"
      },
      "execution_count": 8,
      "outputs": [
        {
          "output_type": "execute_result",
          "data": {
            "text/plain": [
              "Item_Identifier               object\n",
              "Item_Weight                  float64\n",
              "Item_Fat_Content              object\n",
              "Item_Visibility              float64\n",
              "Item_Type                     object\n",
              "Item_MRP                     float64\n",
              "Outlet_Identifier             object\n",
              "Outlet_Establishment_Year      int64\n",
              "Outlet_Size                   object\n",
              "Outlet_Location_Type          object\n",
              "Outlet_Type                   object\n",
              "Item_Outlet_Sales            float64\n",
              "dtype: object"
            ]
          },
          "metadata": {},
          "execution_count": 8
        }
      ]
    },
    {
      "cell_type": "markdown",
      "source": [
        "* The data type for each column includes integers, floats and objects"
      ],
      "metadata": {
        "id": "6KO2BaoFx6r4"
      }
    },
    {
      "cell_type": "markdown",
      "source": [
        "### Duplicates\n",
        "\n",
        "3. Are there duplicates? If so, drop any duplicates."
      ],
      "metadata": {
        "id": "iYWSS26KbeNw"
      }
    },
    {
      "cell_type": "code",
      "source": [
        "## Show number of duplicate rows in the dataset\n",
        "df.duplicated().sum()"
      ],
      "metadata": {
        "colab": {
          "base_uri": "https://localhost:8080/"
        },
        "id": "IkubqhrdyDsJ",
        "outputId": "54df6899-510f-44c5-ab52-2f7d4493cbab"
      },
      "execution_count": 9,
      "outputs": [
        {
          "output_type": "execute_result",
          "data": {
            "text/plain": [
              "0"
            ]
          },
          "metadata": {},
          "execution_count": 9
        }
      ]
    },
    {
      "cell_type": "markdown",
      "source": [
        "* There are no duplicated rows in the dataset"
      ],
      "metadata": {
        "id": "4LzhqTdIyhy4"
      }
    },
    {
      "cell_type": "markdown",
      "source": [
        "### Identify Missing Values\n",
        "\n",
        "4. Identify missing values."
      ],
      "metadata": {
        "id": "t7eToQ75j6zN"
      }
    },
    {
      "cell_type": "code",
      "source": [
        "# Method 1\n",
        "# check data types and non-null values using .info()\n",
        "df.info()"
      ],
      "metadata": {
        "colab": {
          "base_uri": "https://localhost:8080/"
        },
        "id": "9jECHqaLy0Rd",
        "outputId": "a5371e8a-3f51-4bf6-d324-98eb11a91421"
      },
      "execution_count": 10,
      "outputs": [
        {
          "output_type": "stream",
          "name": "stdout",
          "text": [
            "<class 'pandas.core.frame.DataFrame'>\n",
            "RangeIndex: 8523 entries, 0 to 8522\n",
            "Data columns (total 12 columns):\n",
            " #   Column                     Non-Null Count  Dtype  \n",
            "---  ------                     --------------  -----  \n",
            " 0   Item_Identifier            8523 non-null   object \n",
            " 1   Item_Weight                7060 non-null   float64\n",
            " 2   Item_Fat_Content           8523 non-null   object \n",
            " 3   Item_Visibility            8523 non-null   float64\n",
            " 4   Item_Type                  8523 non-null   object \n",
            " 5   Item_MRP                   8523 non-null   float64\n",
            " 6   Outlet_Identifier          8523 non-null   object \n",
            " 7   Outlet_Establishment_Year  8523 non-null   int64  \n",
            " 8   Outlet_Size                6113 non-null   object \n",
            " 9   Outlet_Location_Type       8523 non-null   object \n",
            " 10  Outlet_Type                8523 non-null   object \n",
            " 11  Item_Outlet_Sales          8523 non-null   float64\n",
            "dtypes: float64(4), int64(1), object(7)\n",
            "memory usage: 799.2+ KB\n"
          ]
        }
      ]
    },
    {
      "cell_type": "markdown",
      "source": [
        "* The following have non-null values: \n",
        "\n",
        "1.   Item_weight\n",
        "2.   Outlet_Size\n",
        "\n"
      ],
      "metadata": {
        "id": "Q0J67deW0MFs"
      }
    },
    {
      "cell_type": "code",
      "source": [
        "# Method 2\n",
        "# identify missing values directly using .isnull().sum()\n",
        "df.isnull().sum()\t"
      ],
      "metadata": {
        "colab": {
          "base_uri": "https://localhost:8080/"
        },
        "id": "lMP4Zzcpy0HT",
        "outputId": "e205b189-2207-47f3-8ace-883b97b84f22"
      },
      "execution_count": 11,
      "outputs": [
        {
          "output_type": "execute_result",
          "data": {
            "text/plain": [
              "Item_Identifier                 0\n",
              "Item_Weight                  1463\n",
              "Item_Fat_Content                0\n",
              "Item_Visibility                 0\n",
              "Item_Type                       0\n",
              "Item_MRP                        0\n",
              "Outlet_Identifier               0\n",
              "Outlet_Establishment_Year       0\n",
              "Outlet_Size                  2410\n",
              "Outlet_Location_Type            0\n",
              "Outlet_Type                     0\n",
              "Item_Outlet_Sales               0\n",
              "dtype: int64"
            ]
          },
          "metadata": {},
          "execution_count": 11
        }
      ]
    },
    {
      "cell_type": "markdown",
      "source": [
        "* Same results, but displayed more clearly."
      ],
      "metadata": {
        "id": "pQbQ6mAI1Mju"
      }
    },
    {
      "cell_type": "markdown",
      "source": [
        "### Address Missing Values\n",
        "\n",
        "5. Decide on how to address the missing values and then do it."
      ],
      "metadata": {
        "id": "sd7b9cqbj8WH"
      }
    },
    {
      "cell_type": "markdown",
      "source": [
        "#### Item_Weight\n",
        "\n",
        "Weight of product"
      ],
      "metadata": {
        "id": "R23U6YMZWSpm"
      }
    },
    {
      "cell_type": "code",
      "source": [
        "# Create filter for null Item_Weight values\n",
        "filter_itemweight = df['Item_Weight'].isnull()\n",
        "filter_itemweight.value_counts(normalize=True)"
      ],
      "metadata": {
        "colab": {
          "base_uri": "https://localhost:8080/"
        },
        "id": "DOZn0IbtyzzR",
        "outputId": "2938f2cd-d383-47fc-928f-ef23cbef1f8d"
      },
      "execution_count": 12,
      "outputs": [
        {
          "output_type": "execute_result",
          "data": {
            "text/plain": [
              "False    0.828347\n",
              "True     0.171653\n",
              "Name: Item_Weight, dtype: float64"
            ]
          },
          "metadata": {},
          "execution_count": 12
        }
      ]
    },
    {
      "cell_type": "markdown",
      "source": [
        "* Item_Weight contains 17.17% null values. \n",
        "\n",
        "* Seems a little high to delete those observations (over 5%), but a little low to delete the entire column (not over 50%)\n",
        "\n",
        "* This column is numerical, so any imputed values must also be numerical. \n",
        "\n",
        "* Let's look at the descriptive statistics:"
      ],
      "metadata": {
        "id": "IPFNuFcD3ykY"
      }
    },
    {
      "cell_type": "code",
      "source": [
        "# include median, as it is not included in .describe results\n",
        "print(f\"median     {df['Item_Weight'].median()}\")\n",
        "# descriptive statistics for the column Item_Weight\n",
        "df['Item_Weight'].describe(include=\"number\")"
      ],
      "metadata": {
        "colab": {
          "base_uri": "https://localhost:8080/"
        },
        "id": "mCqS_ocez7Xp",
        "outputId": "8d266ff5-7dbc-4011-ccfa-a14838b764cd"
      },
      "execution_count": 13,
      "outputs": [
        {
          "output_type": "stream",
          "name": "stdout",
          "text": [
            "median     12.6\n"
          ]
        },
        {
          "output_type": "execute_result",
          "data": {
            "text/plain": [
              "count    7060.000000\n",
              "mean       12.857645\n",
              "std         4.643456\n",
              "min         4.555000\n",
              "25%         8.773750\n",
              "50%        12.600000\n",
              "75%        16.850000\n",
              "max        21.350000\n",
              "Name: Item_Weight, dtype: float64"
            ]
          },
          "metadata": {},
          "execution_count": 13
        }
      ]
    },
    {
      "cell_type": "code",
      "source": [
        "# Calculate the percent difference between Item_Weight mean and median\n",
        "percent_diff = ((12.857645 - 12.6) / ((12.857645 + 12.6)/2)) * 100\n",
        "print(f\"The percent difference between Item_Weight's mean and median is {round(percent_diff, 2)}%\")"
      ],
      "metadata": {
        "colab": {
          "base_uri": "https://localhost:8080/"
        },
        "id": "TOLIx9Wb2YoA",
        "outputId": "bd785dc0-990d-480d-c75e-292a59aaf124"
      },
      "execution_count": 14,
      "outputs": [
        {
          "output_type": "stream",
          "name": "stdout",
          "text": [
            "The percent difference between Item_Weight's mean and median is 2.02%\n"
          ]
        }
      ]
    },
    {
      "cell_type": "markdown",
      "source": [
        "To address the 17% of null values in the Item_Weight column, I will opt to resolve this issue by imputing the missing values using the median value of the column for the following reasons:\n",
        "\n",
        "* The median value works well with small datasets like this one.\n",
        "\n",
        "* This method is less affected by outliers than using the 'mean' method.\n",
        "\n",
        "* The percent difference between the mean and median is 2%, which will minimize the difference in results from using either one over the other. "
      ],
      "metadata": {
        "id": "dhhfLGTS4D3M"
      }
    },
    {
      "cell_type": "code",
      "source": [
        "# Replace null values in Item_Weight with the median value of the column: 12.6\n",
        "df['Item_Weight'].fillna(value = 12.6, inplace = True)"
      ],
      "metadata": {
        "id": "-1kYjPX46QWm"
      },
      "execution_count": 15,
      "outputs": []
    },
    {
      "cell_type": "code",
      "source": [
        "# Verify that there are no more null values in Item_Weight\n",
        "df['Item_Weight'].isnull().sum()"
      ],
      "metadata": {
        "colab": {
          "base_uri": "https://localhost:8080/"
        },
        "id": "v4y1GNUD76Wh",
        "outputId": "ddbf124a-3418-4e7e-d291-2061394cb588"
      },
      "execution_count": 16,
      "outputs": [
        {
          "output_type": "execute_result",
          "data": {
            "text/plain": [
              "0"
            ]
          },
          "metadata": {},
          "execution_count": 16
        }
      ]
    },
    {
      "cell_type": "markdown",
      "source": [
        "* All null values in Item_Weight have been addressed and replaced with the median value of the column: 12.6"
      ],
      "metadata": {
        "id": "vnDRl8JI-_QF"
      }
    },
    {
      "cell_type": "markdown",
      "source": [
        "#### Outlet_Size"
      ],
      "metadata": {
        "id": "Bg4FPnAkWWUZ"
      }
    },
    {
      "cell_type": "code",
      "source": [
        "# Create filter for null Outlet_Size values\n",
        "filter_outletsize = df['Outlet_Size'].isnull()\n",
        "filter_outletsize.value_counts(normalize=True)"
      ],
      "metadata": {
        "colab": {
          "base_uri": "https://localhost:8080/"
        },
        "id": "wxXFvCD_5i1I",
        "outputId": "2ab598c9-4581-4a79-dbf3-374cb0fa1f03"
      },
      "execution_count": 17,
      "outputs": [
        {
          "output_type": "execute_result",
          "data": {
            "text/plain": [
              "False    0.717236\n",
              "True     0.282764\n",
              "Name: Outlet_Size, dtype: float64"
            ]
          },
          "metadata": {},
          "execution_count": 17
        }
      ]
    },
    {
      "cell_type": "markdown",
      "source": [
        "* Outlet_Size contains 28.28% null values. This is in a similar range to what Item_Weight was. Let's take a look at what kind of data type Outlet_Size is."
      ],
      "metadata": {
        "id": "KNpAxDzr-RKf"
      }
    },
    {
      "cell_type": "code",
      "source": [
        "# Find Outlet_Size data type\n",
        "display(df['Outlet_Size'].value_counts())\n",
        "print()\n",
        "df['Outlet_Size'].value_counts(normalize=True)"
      ],
      "metadata": {
        "colab": {
          "base_uri": "https://localhost:8080/",
          "height": 170
        },
        "id": "LaFfN_5f_h5P",
        "outputId": "8f57ac89-108e-407d-fbcc-b9665913cc73"
      },
      "execution_count": 18,
      "outputs": [
        {
          "output_type": "display_data",
          "data": {
            "text/plain": [
              "Medium    2793\n",
              "Small     2388\n",
              "High       932\n",
              "Name: Outlet_Size, dtype: int64"
            ]
          },
          "metadata": {}
        },
        {
          "output_type": "stream",
          "name": "stdout",
          "text": [
            "\n"
          ]
        },
        {
          "output_type": "execute_result",
          "data": {
            "text/plain": [
              "Medium    0.456895\n",
              "Small     0.390643\n",
              "High      0.152462\n",
              "Name: Outlet_Size, dtype: float64"
            ]
          },
          "metadata": {},
          "execution_count": 18
        }
      ]
    },
    {
      "cell_type": "markdown",
      "source": [
        "We can see that the data type in  Outlet_Size is categorical: ordinal. \n",
        "\n",
        "* Note that 45% is Medium, 39% is Small, and only 15% is High.\n",
        "\n",
        "* As 28% null-values is fairly significant, yet not over 50%, I recommend we use the median value of Outlet_Size (which is Medium, which is the mean of Sizes, itself)"
      ],
      "metadata": {
        "id": "eNEu_SCI_rPJ"
      }
    },
    {
      "cell_type": "code",
      "source": [
        "# Verify what the mean value of Outlet_Size is\n",
        "df['Outlet_Size'].describe(include='object')"
      ],
      "metadata": {
        "colab": {
          "base_uri": "https://localhost:8080/"
        },
        "id": "ftm40o31BZDv",
        "outputId": "c0056697-7bcf-4765-c150-2ed023747328"
      },
      "execution_count": 19,
      "outputs": [
        {
          "output_type": "execute_result",
          "data": {
            "text/plain": [
              "count       6113\n",
              "unique         3\n",
              "top       Medium\n",
              "freq        2793\n",
              "Name: Outlet_Size, dtype: object"
            ]
          },
          "metadata": {},
          "execution_count": 19
        }
      ]
    },
    {
      "cell_type": "markdown",
      "source": [
        "* Verified that Medium is the median value in Outlet_Size."
      ],
      "metadata": {
        "id": "wl7k9Fh4B3Il"
      }
    },
    {
      "cell_type": "code",
      "source": [
        "# Replace null values in Outlet_Size with Medium\n",
        "df['Outlet_Size'].fillna('Medium', inplace = True)\n",
        "\n",
        "# Verify that there are no more null values in Outlet_Size\n",
        "df['Outlet_Size'].isnull().sum()"
      ],
      "metadata": {
        "colab": {
          "base_uri": "https://localhost:8080/"
        },
        "id": "tBObTMzBCGBA",
        "outputId": "a1ed80df-fa67-406c-f7d1-c4f8b84c596f"
      },
      "execution_count": 20,
      "outputs": [
        {
          "output_type": "execute_result",
          "data": {
            "text/plain": [
              "0"
            ]
          },
          "metadata": {},
          "execution_count": 20
        }
      ]
    },
    {
      "cell_type": "markdown",
      "source": [
        "### Verify Missing Values Addressed\n",
        "\n",
        "6. Confirm that there are no missing values after addressing them."
      ],
      "metadata": {
        "id": "1ez98EXJj_tZ"
      }
    },
    {
      "cell_type": "code",
      "source": [
        "# Let's run our tests again!\n",
        "\n",
        "# Verify that there are no more null values in Item_Weight\n",
        "df['Item_Weight'].isnull().sum()"
      ],
      "metadata": {
        "colab": {
          "base_uri": "https://localhost:8080/"
        },
        "id": "HiigDsyeC0TW",
        "outputId": "9caf7f63-0a27-409b-df95-ac15ecb4dfdb"
      },
      "execution_count": 21,
      "outputs": [
        {
          "output_type": "execute_result",
          "data": {
            "text/plain": [
              "0"
            ]
          },
          "metadata": {},
          "execution_count": 21
        }
      ]
    },
    {
      "cell_type": "code",
      "source": [
        "# Verify that there are no more null values in Outlet_Size\n",
        "df['Outlet_Size'].isnull().sum()"
      ],
      "metadata": {
        "colab": {
          "base_uri": "https://localhost:8080/"
        },
        "id": "bN-Q1ECEDBye",
        "outputId": "9e13fb63-db14-4132-8f04-c1f62d34be9f"
      },
      "execution_count": 22,
      "outputs": [
        {
          "output_type": "execute_result",
          "data": {
            "text/plain": [
              "0"
            ]
          },
          "metadata": {},
          "execution_count": 22
        }
      ]
    },
    {
      "cell_type": "markdown",
      "source": [
        "* Confirmed: neither **Item_Weight** *nor* **Outlet_Size** have any missing values"
      ],
      "metadata": {
        "id": "sB0TUMCpDFUq"
      }
    },
    {
      "cell_type": "markdown",
      "source": [
        "### Find & Fix Inconsistent Categories\n",
        "\n",
        "7. Find and fix any inconsistent categories of data."
      ],
      "metadata": {
        "id": "ZUY9W0g9kBzL"
      }
    },
    {
      "cell_type": "markdown",
      "source": [
        "* Let's try to go through the columns to see if we can find any inconsistent categories of data"
      ],
      "metadata": {
        "id": "So3mBkoPDWdj"
      }
    },
    {
      "cell_type": "code",
      "source": [
        "# Overview of dataset\n",
        "df.info()"
      ],
      "metadata": {
        "colab": {
          "base_uri": "https://localhost:8080/"
        },
        "id": "YIM9vnq0DRqH",
        "outputId": "3faa76b1-9717-445c-86c2-d39b10dc1bb5"
      },
      "execution_count": 23,
      "outputs": [
        {
          "output_type": "stream",
          "name": "stdout",
          "text": [
            "<class 'pandas.core.frame.DataFrame'>\n",
            "RangeIndex: 8523 entries, 0 to 8522\n",
            "Data columns (total 12 columns):\n",
            " #   Column                     Non-Null Count  Dtype  \n",
            "---  ------                     --------------  -----  \n",
            " 0   Item_Identifier            8523 non-null   object \n",
            " 1   Item_Weight                8523 non-null   float64\n",
            " 2   Item_Fat_Content           8523 non-null   object \n",
            " 3   Item_Visibility            8523 non-null   float64\n",
            " 4   Item_Type                  8523 non-null   object \n",
            " 5   Item_MRP                   8523 non-null   float64\n",
            " 6   Outlet_Identifier          8523 non-null   object \n",
            " 7   Outlet_Establishment_Year  8523 non-null   int64  \n",
            " 8   Outlet_Size                8523 non-null   object \n",
            " 9   Outlet_Location_Type       8523 non-null   object \n",
            " 10  Outlet_Type                8523 non-null   object \n",
            " 11  Item_Outlet_Sales          8523 non-null   float64\n",
            "dtypes: float64(4), int64(1), object(7)\n",
            "memory usage: 799.2+ KB\n"
          ]
        }
      ]
    },
    {
      "cell_type": "markdown",
      "source": [
        "#### Numerical Discrete Categories"
      ],
      "metadata": {
        "id": "vh6N1WWgdI-e"
      }
    },
    {
      "cell_type": "markdown",
      "source": [
        "##### Outlet_Establishment_Year\n",
        "\n",
        "The year in which each store was established"
      ],
      "metadata": {
        "id": "sp_sM37VluwI"
      }
    },
    {
      "cell_type": "code",
      "source": [
        "# Look at number of values and evaluate data.\n",
        "display(df['Outlet_Establishment_Year'].value_counts())\n",
        "# Count number of unique values\n",
        "df['Outlet_Establishment_Year'].nunique()\n",
        "# Numerical Discrete data"
      ],
      "metadata": {
        "colab": {
          "base_uri": "https://localhost:8080/",
          "height": 204
        },
        "id": "1Qob26Nipiq-",
        "outputId": "6f29c890-ac4c-40fd-e143-8af2574a95e3"
      },
      "execution_count": 24,
      "outputs": [
        {
          "output_type": "display_data",
          "data": {
            "text/plain": [
              "1985    1463\n",
              "1987     932\n",
              "1999     930\n",
              "1997     930\n",
              "2004     930\n",
              "2002     929\n",
              "2009     928\n",
              "2007     926\n",
              "1998     555\n",
              "Name: Outlet_Establishment_Year, dtype: int64"
            ]
          },
          "metadata": {}
        },
        {
          "output_type": "execute_result",
          "data": {
            "text/plain": [
              "9"
            ]
          },
          "metadata": {},
          "execution_count": 24
        }
      ]
    },
    {
      "cell_type": "markdown",
      "source": [
        "* No errors noted. Data shows years of stores' establishment and all look reasonable years for a supermarket/grocery store. In one year, two different store locations opened. "
      ],
      "metadata": {
        "id": "Zs0Fh5Gep1fo"
      }
    },
    {
      "cell_type": "markdown",
      "source": [
        "##### Item_Outlet_Sales\n",
        "\n",
        "Sales of the product in the particular store. This is the target variable to be predicted."
      ],
      "metadata": {
        "id": "fDJoY2abl_mC"
      }
    },
    {
      "cell_type": "code",
      "source": [
        "# Evaluate data values\n",
        "df['Item_Outlet_Sales'].value_counts()\n",
        "# Appears to be Numerical Continuous, but should more likely be Numerical Discrete (and categorizing as such)"
      ],
      "metadata": {
        "colab": {
          "base_uri": "https://localhost:8080/"
        },
        "id": "h8m-NunkL-WU",
        "outputId": "e9d853dc-87cd-4f78-d7ae-e46db396f354"
      },
      "execution_count": 25,
      "outputs": [
        {
          "output_type": "execute_result",
          "data": {
            "text/plain": [
              "958.7520     17\n",
              "1342.2528    16\n",
              "703.0848     15\n",
              "1845.5976    15\n",
              "1278.3360    14\n",
              "             ..\n",
              "4124.6310     1\n",
              "6622.7126     1\n",
              "1614.5650     1\n",
              "5602.7070     1\n",
              "2778.3834     1\n",
              "Name: Item_Outlet_Sales, Length: 3493, dtype: int64"
            ]
          },
          "metadata": {},
          "execution_count": 25
        }
      ]
    },
    {
      "cell_type": "code",
      "source": [
        "# Look at Item_Outlet_Sales to check min & max values\n",
        "df.describe(include=\"number\")"
      ],
      "metadata": {
        "colab": {
          "base_uri": "https://localhost:8080/",
          "height": 297
        },
        "id": "Cmc6Rk3ayNa1",
        "outputId": "9962a006-abb2-43e1-8f7e-b09e34c8e112"
      },
      "execution_count": 26,
      "outputs": [
        {
          "output_type": "execute_result",
          "data": {
            "text/plain": [
              "       Item_Weight  Item_Visibility     Item_MRP  Outlet_Establishment_Year  \\\n",
              "count   8523.00000      8523.000000  8523.000000                8523.000000   \n",
              "mean      12.81342         0.066132   140.992782                1997.831867   \n",
              "std        4.22724         0.051598    62.275067                   8.371760   \n",
              "min        4.55500         0.000000    31.290000                1985.000000   \n",
              "25%        9.31000         0.026989    93.826500                1987.000000   \n",
              "50%       12.60000         0.053931   143.012800                1999.000000   \n",
              "75%       16.00000         0.094585   185.643700                2004.000000   \n",
              "max       21.35000         0.328391   266.888400                2009.000000   \n",
              "\n",
              "       Item_Outlet_Sales  \n",
              "count        8523.000000  \n",
              "mean         2181.288914  \n",
              "std          1706.499616  \n",
              "min            33.290000  \n",
              "25%           834.247400  \n",
              "50%          1794.331000  \n",
              "75%          3101.296400  \n",
              "max         13086.964800  "
            ],
            "text/html": [
              "\n",
              "  <div id=\"df-39ff6408-3128-4106-b84e-5af8f06c9f66\">\n",
              "    <div class=\"colab-df-container\">\n",
              "      <div>\n",
              "<style scoped>\n",
              "    .dataframe tbody tr th:only-of-type {\n",
              "        vertical-align: middle;\n",
              "    }\n",
              "\n",
              "    .dataframe tbody tr th {\n",
              "        vertical-align: top;\n",
              "    }\n",
              "\n",
              "    .dataframe thead th {\n",
              "        text-align: right;\n",
              "    }\n",
              "</style>\n",
              "<table border=\"1\" class=\"dataframe\">\n",
              "  <thead>\n",
              "    <tr style=\"text-align: right;\">\n",
              "      <th></th>\n",
              "      <th>Item_Weight</th>\n",
              "      <th>Item_Visibility</th>\n",
              "      <th>Item_MRP</th>\n",
              "      <th>Outlet_Establishment_Year</th>\n",
              "      <th>Item_Outlet_Sales</th>\n",
              "    </tr>\n",
              "  </thead>\n",
              "  <tbody>\n",
              "    <tr>\n",
              "      <th>count</th>\n",
              "      <td>8523.00000</td>\n",
              "      <td>8523.000000</td>\n",
              "      <td>8523.000000</td>\n",
              "      <td>8523.000000</td>\n",
              "      <td>8523.000000</td>\n",
              "    </tr>\n",
              "    <tr>\n",
              "      <th>mean</th>\n",
              "      <td>12.81342</td>\n",
              "      <td>0.066132</td>\n",
              "      <td>140.992782</td>\n",
              "      <td>1997.831867</td>\n",
              "      <td>2181.288914</td>\n",
              "    </tr>\n",
              "    <tr>\n",
              "      <th>std</th>\n",
              "      <td>4.22724</td>\n",
              "      <td>0.051598</td>\n",
              "      <td>62.275067</td>\n",
              "      <td>8.371760</td>\n",
              "      <td>1706.499616</td>\n",
              "    </tr>\n",
              "    <tr>\n",
              "      <th>min</th>\n",
              "      <td>4.55500</td>\n",
              "      <td>0.000000</td>\n",
              "      <td>31.290000</td>\n",
              "      <td>1985.000000</td>\n",
              "      <td>33.290000</td>\n",
              "    </tr>\n",
              "    <tr>\n",
              "      <th>25%</th>\n",
              "      <td>9.31000</td>\n",
              "      <td>0.026989</td>\n",
              "      <td>93.826500</td>\n",
              "      <td>1987.000000</td>\n",
              "      <td>834.247400</td>\n",
              "    </tr>\n",
              "    <tr>\n",
              "      <th>50%</th>\n",
              "      <td>12.60000</td>\n",
              "      <td>0.053931</td>\n",
              "      <td>143.012800</td>\n",
              "      <td>1999.000000</td>\n",
              "      <td>1794.331000</td>\n",
              "    </tr>\n",
              "    <tr>\n",
              "      <th>75%</th>\n",
              "      <td>16.00000</td>\n",
              "      <td>0.094585</td>\n",
              "      <td>185.643700</td>\n",
              "      <td>2004.000000</td>\n",
              "      <td>3101.296400</td>\n",
              "    </tr>\n",
              "    <tr>\n",
              "      <th>max</th>\n",
              "      <td>21.35000</td>\n",
              "      <td>0.328391</td>\n",
              "      <td>266.888400</td>\n",
              "      <td>2009.000000</td>\n",
              "      <td>13086.964800</td>\n",
              "    </tr>\n",
              "  </tbody>\n",
              "</table>\n",
              "</div>\n",
              "      <button class=\"colab-df-convert\" onclick=\"convertToInteractive('df-39ff6408-3128-4106-b84e-5af8f06c9f66')\"\n",
              "              title=\"Convert this dataframe to an interactive table.\"\n",
              "              style=\"display:none;\">\n",
              "        \n",
              "  <svg xmlns=\"http://www.w3.org/2000/svg\" height=\"24px\"viewBox=\"0 0 24 24\"\n",
              "       width=\"24px\">\n",
              "    <path d=\"M0 0h24v24H0V0z\" fill=\"none\"/>\n",
              "    <path d=\"M18.56 5.44l.94 2.06.94-2.06 2.06-.94-2.06-.94-.94-2.06-.94 2.06-2.06.94zm-11 1L8.5 8.5l.94-2.06 2.06-.94-2.06-.94L8.5 2.5l-.94 2.06-2.06.94zm10 10l.94 2.06.94-2.06 2.06-.94-2.06-.94-.94-2.06-.94 2.06-2.06.94z\"/><path d=\"M17.41 7.96l-1.37-1.37c-.4-.4-.92-.59-1.43-.59-.52 0-1.04.2-1.43.59L10.3 9.45l-7.72 7.72c-.78.78-.78 2.05 0 2.83L4 21.41c.39.39.9.59 1.41.59.51 0 1.02-.2 1.41-.59l7.78-7.78 2.81-2.81c.8-.78.8-2.07 0-2.86zM5.41 20L4 18.59l7.72-7.72 1.47 1.35L5.41 20z\"/>\n",
              "  </svg>\n",
              "      </button>\n",
              "      \n",
              "  <style>\n",
              "    .colab-df-container {\n",
              "      display:flex;\n",
              "      flex-wrap:wrap;\n",
              "      gap: 12px;\n",
              "    }\n",
              "\n",
              "    .colab-df-convert {\n",
              "      background-color: #E8F0FE;\n",
              "      border: none;\n",
              "      border-radius: 50%;\n",
              "      cursor: pointer;\n",
              "      display: none;\n",
              "      fill: #1967D2;\n",
              "      height: 32px;\n",
              "      padding: 0 0 0 0;\n",
              "      width: 32px;\n",
              "    }\n",
              "\n",
              "    .colab-df-convert:hover {\n",
              "      background-color: #E2EBFA;\n",
              "      box-shadow: 0px 1px 2px rgba(60, 64, 67, 0.3), 0px 1px 3px 1px rgba(60, 64, 67, 0.15);\n",
              "      fill: #174EA6;\n",
              "    }\n",
              "\n",
              "    [theme=dark] .colab-df-convert {\n",
              "      background-color: #3B4455;\n",
              "      fill: #D2E3FC;\n",
              "    }\n",
              "\n",
              "    [theme=dark] .colab-df-convert:hover {\n",
              "      background-color: #434B5C;\n",
              "      box-shadow: 0px 1px 3px 1px rgba(0, 0, 0, 0.15);\n",
              "      filter: drop-shadow(0px 1px 2px rgba(0, 0, 0, 0.3));\n",
              "      fill: #FFFFFF;\n",
              "    }\n",
              "  </style>\n",
              "\n",
              "      <script>\n",
              "        const buttonEl =\n",
              "          document.querySelector('#df-39ff6408-3128-4106-b84e-5af8f06c9f66 button.colab-df-convert');\n",
              "        buttonEl.style.display =\n",
              "          google.colab.kernel.accessAllowed ? 'block' : 'none';\n",
              "\n",
              "        async function convertToInteractive(key) {\n",
              "          const element = document.querySelector('#df-39ff6408-3128-4106-b84e-5af8f06c9f66');\n",
              "          const dataTable =\n",
              "            await google.colab.kernel.invokeFunction('convertToInteractive',\n",
              "                                                     [key], {});\n",
              "          if (!dataTable) return;\n",
              "\n",
              "          const docLinkHtml = 'Like what you see? Visit the ' +\n",
              "            '<a target=\"_blank\" href=https://colab.research.google.com/notebooks/data_table.ipynb>data table notebook</a>'\n",
              "            + ' to learn more about interactive tables.';\n",
              "          element.innerHTML = '';\n",
              "          dataTable['output_type'] = 'display_data';\n",
              "          await google.colab.output.renderOutput(dataTable, element);\n",
              "          const docLink = document.createElement('div');\n",
              "          docLink.innerHTML = docLinkHtml;\n",
              "          element.appendChild(docLink);\n",
              "        }\n",
              "      </script>\n",
              "    </div>\n",
              "  </div>\n",
              "  "
            ]
          },
          "metadata": {},
          "execution_count": 26
        }
      ]
    },
    {
      "cell_type": "markdown",
      "source": [
        "* No specific error noted outside of the non-discrete values included.\n",
        "* Item_Outlet_Sales are just sales of an item at a particular location and values can vary widely \"hot items\" to \"poor sellers\". \n",
        "The values are positive, so that looks fine. \n",
        "* However, it is curious how the number of items sold are not discrete values. I am puzzled as to how fractions of a unit can be sold. I would recommend checking that these values are correct with a Subject Matter Expert.  \n",
        "* I will categorize this group as Numerical Discrete for now (as that's what I would expect it to be) and follow-up with the SME."
      ],
      "metadata": {
        "id": "c28IJEMgxKw1"
      }
    },
    {
      "cell_type": "markdown",
      "source": [
        "#### Numerical Continuous Categories"
      ],
      "metadata": {
        "id": "0PWytJSmdtip"
      }
    },
    {
      "cell_type": "markdown",
      "source": [
        "##### Item_Weight\n",
        "\n",
        "Weight of product"
      ],
      "metadata": {
        "id": "zCudYI8VV-GU"
      }
    },
    {
      "cell_type": "code",
      "source": [
        "# Look at the value counts for Item_Weight to see if anything stands out\n",
        "df['Item_Weight'].value_counts()"
      ],
      "metadata": {
        "colab": {
          "base_uri": "https://localhost:8080/"
        },
        "id": "SroMEFUYDpEE",
        "outputId": "e6e2a28b-ece4-4eba-af04-7e454fd0998b"
      },
      "execution_count": 27,
      "outputs": [
        {
          "output_type": "execute_result",
          "data": {
            "text/plain": [
              "12.600    1516\n",
              "12.150      86\n",
              "17.600      82\n",
              "13.650      77\n",
              "11.800      76\n",
              "          ... \n",
              "7.275        2\n",
              "7.685        1\n",
              "9.420        1\n",
              "6.520        1\n",
              "5.400        1\n",
              "Name: Item_Weight, Length: 415, dtype: int64"
            ]
          },
          "metadata": {},
          "execution_count": 27
        }
      ]
    },
    {
      "cell_type": "code",
      "source": [
        "# Double check the descriptive statistics of the column to get another perspective on the data\n",
        "df['Item_Weight'].describe()"
      ],
      "metadata": {
        "colab": {
          "base_uri": "https://localhost:8080/"
        },
        "id": "rv-8lLmQ9W9-",
        "outputId": "11d46742-ccf0-4067-880b-d53e7ff23090"
      },
      "execution_count": 28,
      "outputs": [
        {
          "output_type": "execute_result",
          "data": {
            "text/plain": [
              "count    8523.00000\n",
              "mean       12.81342\n",
              "std         4.22724\n",
              "min         4.55500\n",
              "25%         9.31000\n",
              "50%        12.60000\n",
              "75%        16.00000\n",
              "max        21.35000\n",
              "Name: Item_Weight, dtype: float64"
            ]
          },
          "metadata": {},
          "execution_count": 28
        }
      ]
    },
    {
      "cell_type": "markdown",
      "source": [
        "Everything seems to be normal and fits well within normal ranges for these numerical values. \n",
        "\n",
        "* No errors noted."
      ],
      "metadata": {
        "id": "8FGE1uMI_XZm"
      }
    },
    {
      "cell_type": "markdown",
      "source": [
        "##### Item_Visibility\n",
        "\n",
        "The percentage of total display area of all products in a store allocated to the particular product"
      ],
      "metadata": {
        "id": "EU264IecV4A5"
      }
    },
    {
      "cell_type": "code",
      "source": [
        "# Display descriptive statistics for the numeric columns\n",
        "# Notice Item_Visibility\n",
        "df.describe(include='number')"
      ],
      "metadata": {
        "colab": {
          "base_uri": "https://localhost:8080/",
          "height": 297
        },
        "id": "5Rmuk_7JL_EJ",
        "outputId": "a818768b-45ce-45ca-e6da-4cb70dbfaeff"
      },
      "execution_count": 29,
      "outputs": [
        {
          "output_type": "execute_result",
          "data": {
            "text/plain": [
              "       Item_Weight  Item_Visibility     Item_MRP  Outlet_Establishment_Year  \\\n",
              "count   8523.00000      8523.000000  8523.000000                8523.000000   \n",
              "mean      12.81342         0.066132   140.992782                1997.831867   \n",
              "std        4.22724         0.051598    62.275067                   8.371760   \n",
              "min        4.55500         0.000000    31.290000                1985.000000   \n",
              "25%        9.31000         0.026989    93.826500                1987.000000   \n",
              "50%       12.60000         0.053931   143.012800                1999.000000   \n",
              "75%       16.00000         0.094585   185.643700                2004.000000   \n",
              "max       21.35000         0.328391   266.888400                2009.000000   \n",
              "\n",
              "       Item_Outlet_Sales  \n",
              "count        8523.000000  \n",
              "mean         2181.288914  \n",
              "std          1706.499616  \n",
              "min            33.290000  \n",
              "25%           834.247400  \n",
              "50%          1794.331000  \n",
              "75%          3101.296400  \n",
              "max         13086.964800  "
            ],
            "text/html": [
              "\n",
              "  <div id=\"df-d6de571e-253a-487c-8e4b-8c8fc8a4e95e\">\n",
              "    <div class=\"colab-df-container\">\n",
              "      <div>\n",
              "<style scoped>\n",
              "    .dataframe tbody tr th:only-of-type {\n",
              "        vertical-align: middle;\n",
              "    }\n",
              "\n",
              "    .dataframe tbody tr th {\n",
              "        vertical-align: top;\n",
              "    }\n",
              "\n",
              "    .dataframe thead th {\n",
              "        text-align: right;\n",
              "    }\n",
              "</style>\n",
              "<table border=\"1\" class=\"dataframe\">\n",
              "  <thead>\n",
              "    <tr style=\"text-align: right;\">\n",
              "      <th></th>\n",
              "      <th>Item_Weight</th>\n",
              "      <th>Item_Visibility</th>\n",
              "      <th>Item_MRP</th>\n",
              "      <th>Outlet_Establishment_Year</th>\n",
              "      <th>Item_Outlet_Sales</th>\n",
              "    </tr>\n",
              "  </thead>\n",
              "  <tbody>\n",
              "    <tr>\n",
              "      <th>count</th>\n",
              "      <td>8523.00000</td>\n",
              "      <td>8523.000000</td>\n",
              "      <td>8523.000000</td>\n",
              "      <td>8523.000000</td>\n",
              "      <td>8523.000000</td>\n",
              "    </tr>\n",
              "    <tr>\n",
              "      <th>mean</th>\n",
              "      <td>12.81342</td>\n",
              "      <td>0.066132</td>\n",
              "      <td>140.992782</td>\n",
              "      <td>1997.831867</td>\n",
              "      <td>2181.288914</td>\n",
              "    </tr>\n",
              "    <tr>\n",
              "      <th>std</th>\n",
              "      <td>4.22724</td>\n",
              "      <td>0.051598</td>\n",
              "      <td>62.275067</td>\n",
              "      <td>8.371760</td>\n",
              "      <td>1706.499616</td>\n",
              "    </tr>\n",
              "    <tr>\n",
              "      <th>min</th>\n",
              "      <td>4.55500</td>\n",
              "      <td>0.000000</td>\n",
              "      <td>31.290000</td>\n",
              "      <td>1985.000000</td>\n",
              "      <td>33.290000</td>\n",
              "    </tr>\n",
              "    <tr>\n",
              "      <th>25%</th>\n",
              "      <td>9.31000</td>\n",
              "      <td>0.026989</td>\n",
              "      <td>93.826500</td>\n",
              "      <td>1987.000000</td>\n",
              "      <td>834.247400</td>\n",
              "    </tr>\n",
              "    <tr>\n",
              "      <th>50%</th>\n",
              "      <td>12.60000</td>\n",
              "      <td>0.053931</td>\n",
              "      <td>143.012800</td>\n",
              "      <td>1999.000000</td>\n",
              "      <td>1794.331000</td>\n",
              "    </tr>\n",
              "    <tr>\n",
              "      <th>75%</th>\n",
              "      <td>16.00000</td>\n",
              "      <td>0.094585</td>\n",
              "      <td>185.643700</td>\n",
              "      <td>2004.000000</td>\n",
              "      <td>3101.296400</td>\n",
              "    </tr>\n",
              "    <tr>\n",
              "      <th>max</th>\n",
              "      <td>21.35000</td>\n",
              "      <td>0.328391</td>\n",
              "      <td>266.888400</td>\n",
              "      <td>2009.000000</td>\n",
              "      <td>13086.964800</td>\n",
              "    </tr>\n",
              "  </tbody>\n",
              "</table>\n",
              "</div>\n",
              "      <button class=\"colab-df-convert\" onclick=\"convertToInteractive('df-d6de571e-253a-487c-8e4b-8c8fc8a4e95e')\"\n",
              "              title=\"Convert this dataframe to an interactive table.\"\n",
              "              style=\"display:none;\">\n",
              "        \n",
              "  <svg xmlns=\"http://www.w3.org/2000/svg\" height=\"24px\"viewBox=\"0 0 24 24\"\n",
              "       width=\"24px\">\n",
              "    <path d=\"M0 0h24v24H0V0z\" fill=\"none\"/>\n",
              "    <path d=\"M18.56 5.44l.94 2.06.94-2.06 2.06-.94-2.06-.94-.94-2.06-.94 2.06-2.06.94zm-11 1L8.5 8.5l.94-2.06 2.06-.94-2.06-.94L8.5 2.5l-.94 2.06-2.06.94zm10 10l.94 2.06.94-2.06 2.06-.94-2.06-.94-.94-2.06-.94 2.06-2.06.94z\"/><path d=\"M17.41 7.96l-1.37-1.37c-.4-.4-.92-.59-1.43-.59-.52 0-1.04.2-1.43.59L10.3 9.45l-7.72 7.72c-.78.78-.78 2.05 0 2.83L4 21.41c.39.39.9.59 1.41.59.51 0 1.02-.2 1.41-.59l7.78-7.78 2.81-2.81c.8-.78.8-2.07 0-2.86zM5.41 20L4 18.59l7.72-7.72 1.47 1.35L5.41 20z\"/>\n",
              "  </svg>\n",
              "      </button>\n",
              "      \n",
              "  <style>\n",
              "    .colab-df-container {\n",
              "      display:flex;\n",
              "      flex-wrap:wrap;\n",
              "      gap: 12px;\n",
              "    }\n",
              "\n",
              "    .colab-df-convert {\n",
              "      background-color: #E8F0FE;\n",
              "      border: none;\n",
              "      border-radius: 50%;\n",
              "      cursor: pointer;\n",
              "      display: none;\n",
              "      fill: #1967D2;\n",
              "      height: 32px;\n",
              "      padding: 0 0 0 0;\n",
              "      width: 32px;\n",
              "    }\n",
              "\n",
              "    .colab-df-convert:hover {\n",
              "      background-color: #E2EBFA;\n",
              "      box-shadow: 0px 1px 2px rgba(60, 64, 67, 0.3), 0px 1px 3px 1px rgba(60, 64, 67, 0.15);\n",
              "      fill: #174EA6;\n",
              "    }\n",
              "\n",
              "    [theme=dark] .colab-df-convert {\n",
              "      background-color: #3B4455;\n",
              "      fill: #D2E3FC;\n",
              "    }\n",
              "\n",
              "    [theme=dark] .colab-df-convert:hover {\n",
              "      background-color: #434B5C;\n",
              "      box-shadow: 0px 1px 3px 1px rgba(0, 0, 0, 0.15);\n",
              "      filter: drop-shadow(0px 1px 2px rgba(0, 0, 0, 0.3));\n",
              "      fill: #FFFFFF;\n",
              "    }\n",
              "  </style>\n",
              "\n",
              "      <script>\n",
              "        const buttonEl =\n",
              "          document.querySelector('#df-d6de571e-253a-487c-8e4b-8c8fc8a4e95e button.colab-df-convert');\n",
              "        buttonEl.style.display =\n",
              "          google.colab.kernel.accessAllowed ? 'block' : 'none';\n",
              "\n",
              "        async function convertToInteractive(key) {\n",
              "          const element = document.querySelector('#df-d6de571e-253a-487c-8e4b-8c8fc8a4e95e');\n",
              "          const dataTable =\n",
              "            await google.colab.kernel.invokeFunction('convertToInteractive',\n",
              "                                                     [key], {});\n",
              "          if (!dataTable) return;\n",
              "\n",
              "          const docLinkHtml = 'Like what you see? Visit the ' +\n",
              "            '<a target=\"_blank\" href=https://colab.research.google.com/notebooks/data_table.ipynb>data table notebook</a>'\n",
              "            + ' to learn more about interactive tables.';\n",
              "          element.innerHTML = '';\n",
              "          dataTable['output_type'] = 'display_data';\n",
              "          await google.colab.output.renderOutput(dataTable, element);\n",
              "          const docLink = document.createElement('div');\n",
              "          docLink.innerHTML = docLinkHtml;\n",
              "          element.appendChild(docLink);\n",
              "        }\n",
              "      </script>\n",
              "    </div>\n",
              "  </div>\n",
              "  "
            ]
          },
          "metadata": {},
          "execution_count": 29
        }
      ]
    },
    {
      "cell_type": "code",
      "source": [
        "# Let's see the values for Item_Visibility\n",
        "df['Item_Visibility'].value_counts()"
      ],
      "metadata": {
        "colab": {
          "base_uri": "https://localhost:8080/"
        },
        "id": "atlLlZagL-2W",
        "outputId": "09a420dd-a837-4827-9553-bdee1a88dd00"
      },
      "execution_count": 30,
      "outputs": [
        {
          "output_type": "execute_result",
          "data": {
            "text/plain": [
              "0.000000    526\n",
              "0.076975      3\n",
              "0.162462      2\n",
              "0.076841      2\n",
              "0.073562      2\n",
              "           ... \n",
              "0.013957      1\n",
              "0.110460      1\n",
              "0.124646      1\n",
              "0.054142      1\n",
              "0.044878      1\n",
              "Name: Item_Visibility, Length: 7880, dtype: int64"
            ]
          },
          "metadata": {},
          "execution_count": 30
        }
      ]
    },
    {
      "cell_type": "markdown",
      "source": [
        "* Values seem resonable outside of the 526 zero values. Otherwise, not noticing any outliers for Item_Visibility. A Subject Matter Expert should be asked to verify if zero is a reasonable value for this category."
      ],
      "metadata": {
        "id": "CxA-YWV7SkbY"
      }
    },
    {
      "cell_type": "markdown",
      "source": [
        "##### Item_MRP\n",
        "\n",
        "Item_MRP is the Maximum Retail Price of the product sold at grocery stores or supermarkets.\n",
        "\n"
      ],
      "metadata": {
        "id": "pv9Fb2UVULpL"
      }
    },
    {
      "cell_type": "code",
      "source": [
        "# Look at the data stats for Item_MRP\n",
        "df.describe()\n",
        "# Numerical Continuous"
      ],
      "metadata": {
        "colab": {
          "base_uri": "https://localhost:8080/",
          "height": 297
        },
        "id": "saBqh4cI4w8b",
        "outputId": "8fcaff4c-c92f-4f77-b1c8-2b7174abe0be"
      },
      "execution_count": 31,
      "outputs": [
        {
          "output_type": "execute_result",
          "data": {
            "text/plain": [
              "       Item_Weight  Item_Visibility     Item_MRP  Outlet_Establishment_Year  \\\n",
              "count   8523.00000      8523.000000  8523.000000                8523.000000   \n",
              "mean      12.81342         0.066132   140.992782                1997.831867   \n",
              "std        4.22724         0.051598    62.275067                   8.371760   \n",
              "min        4.55500         0.000000    31.290000                1985.000000   \n",
              "25%        9.31000         0.026989    93.826500                1987.000000   \n",
              "50%       12.60000         0.053931   143.012800                1999.000000   \n",
              "75%       16.00000         0.094585   185.643700                2004.000000   \n",
              "max       21.35000         0.328391   266.888400                2009.000000   \n",
              "\n",
              "       Item_Outlet_Sales  \n",
              "count        8523.000000  \n",
              "mean         2181.288914  \n",
              "std          1706.499616  \n",
              "min            33.290000  \n",
              "25%           834.247400  \n",
              "50%          1794.331000  \n",
              "75%          3101.296400  \n",
              "max         13086.964800  "
            ],
            "text/html": [
              "\n",
              "  <div id=\"df-c48eae47-e02c-448e-9eab-4e8b1f86af6c\">\n",
              "    <div class=\"colab-df-container\">\n",
              "      <div>\n",
              "<style scoped>\n",
              "    .dataframe tbody tr th:only-of-type {\n",
              "        vertical-align: middle;\n",
              "    }\n",
              "\n",
              "    .dataframe tbody tr th {\n",
              "        vertical-align: top;\n",
              "    }\n",
              "\n",
              "    .dataframe thead th {\n",
              "        text-align: right;\n",
              "    }\n",
              "</style>\n",
              "<table border=\"1\" class=\"dataframe\">\n",
              "  <thead>\n",
              "    <tr style=\"text-align: right;\">\n",
              "      <th></th>\n",
              "      <th>Item_Weight</th>\n",
              "      <th>Item_Visibility</th>\n",
              "      <th>Item_MRP</th>\n",
              "      <th>Outlet_Establishment_Year</th>\n",
              "      <th>Item_Outlet_Sales</th>\n",
              "    </tr>\n",
              "  </thead>\n",
              "  <tbody>\n",
              "    <tr>\n",
              "      <th>count</th>\n",
              "      <td>8523.00000</td>\n",
              "      <td>8523.000000</td>\n",
              "      <td>8523.000000</td>\n",
              "      <td>8523.000000</td>\n",
              "      <td>8523.000000</td>\n",
              "    </tr>\n",
              "    <tr>\n",
              "      <th>mean</th>\n",
              "      <td>12.81342</td>\n",
              "      <td>0.066132</td>\n",
              "      <td>140.992782</td>\n",
              "      <td>1997.831867</td>\n",
              "      <td>2181.288914</td>\n",
              "    </tr>\n",
              "    <tr>\n",
              "      <th>std</th>\n",
              "      <td>4.22724</td>\n",
              "      <td>0.051598</td>\n",
              "      <td>62.275067</td>\n",
              "      <td>8.371760</td>\n",
              "      <td>1706.499616</td>\n",
              "    </tr>\n",
              "    <tr>\n",
              "      <th>min</th>\n",
              "      <td>4.55500</td>\n",
              "      <td>0.000000</td>\n",
              "      <td>31.290000</td>\n",
              "      <td>1985.000000</td>\n",
              "      <td>33.290000</td>\n",
              "    </tr>\n",
              "    <tr>\n",
              "      <th>25%</th>\n",
              "      <td>9.31000</td>\n",
              "      <td>0.026989</td>\n",
              "      <td>93.826500</td>\n",
              "      <td>1987.000000</td>\n",
              "      <td>834.247400</td>\n",
              "    </tr>\n",
              "    <tr>\n",
              "      <th>50%</th>\n",
              "      <td>12.60000</td>\n",
              "      <td>0.053931</td>\n",
              "      <td>143.012800</td>\n",
              "      <td>1999.000000</td>\n",
              "      <td>1794.331000</td>\n",
              "    </tr>\n",
              "    <tr>\n",
              "      <th>75%</th>\n",
              "      <td>16.00000</td>\n",
              "      <td>0.094585</td>\n",
              "      <td>185.643700</td>\n",
              "      <td>2004.000000</td>\n",
              "      <td>3101.296400</td>\n",
              "    </tr>\n",
              "    <tr>\n",
              "      <th>max</th>\n",
              "      <td>21.35000</td>\n",
              "      <td>0.328391</td>\n",
              "      <td>266.888400</td>\n",
              "      <td>2009.000000</td>\n",
              "      <td>13086.964800</td>\n",
              "    </tr>\n",
              "  </tbody>\n",
              "</table>\n",
              "</div>\n",
              "      <button class=\"colab-df-convert\" onclick=\"convertToInteractive('df-c48eae47-e02c-448e-9eab-4e8b1f86af6c')\"\n",
              "              title=\"Convert this dataframe to an interactive table.\"\n",
              "              style=\"display:none;\">\n",
              "        \n",
              "  <svg xmlns=\"http://www.w3.org/2000/svg\" height=\"24px\"viewBox=\"0 0 24 24\"\n",
              "       width=\"24px\">\n",
              "    <path d=\"M0 0h24v24H0V0z\" fill=\"none\"/>\n",
              "    <path d=\"M18.56 5.44l.94 2.06.94-2.06 2.06-.94-2.06-.94-.94-2.06-.94 2.06-2.06.94zm-11 1L8.5 8.5l.94-2.06 2.06-.94-2.06-.94L8.5 2.5l-.94 2.06-2.06.94zm10 10l.94 2.06.94-2.06 2.06-.94-2.06-.94-.94-2.06-.94 2.06-2.06.94z\"/><path d=\"M17.41 7.96l-1.37-1.37c-.4-.4-.92-.59-1.43-.59-.52 0-1.04.2-1.43.59L10.3 9.45l-7.72 7.72c-.78.78-.78 2.05 0 2.83L4 21.41c.39.39.9.59 1.41.59.51 0 1.02-.2 1.41-.59l7.78-7.78 2.81-2.81c.8-.78.8-2.07 0-2.86zM5.41 20L4 18.59l7.72-7.72 1.47 1.35L5.41 20z\"/>\n",
              "  </svg>\n",
              "      </button>\n",
              "      \n",
              "  <style>\n",
              "    .colab-df-container {\n",
              "      display:flex;\n",
              "      flex-wrap:wrap;\n",
              "      gap: 12px;\n",
              "    }\n",
              "\n",
              "    .colab-df-convert {\n",
              "      background-color: #E8F0FE;\n",
              "      border: none;\n",
              "      border-radius: 50%;\n",
              "      cursor: pointer;\n",
              "      display: none;\n",
              "      fill: #1967D2;\n",
              "      height: 32px;\n",
              "      padding: 0 0 0 0;\n",
              "      width: 32px;\n",
              "    }\n",
              "\n",
              "    .colab-df-convert:hover {\n",
              "      background-color: #E2EBFA;\n",
              "      box-shadow: 0px 1px 2px rgba(60, 64, 67, 0.3), 0px 1px 3px 1px rgba(60, 64, 67, 0.15);\n",
              "      fill: #174EA6;\n",
              "    }\n",
              "\n",
              "    [theme=dark] .colab-df-convert {\n",
              "      background-color: #3B4455;\n",
              "      fill: #D2E3FC;\n",
              "    }\n",
              "\n",
              "    [theme=dark] .colab-df-convert:hover {\n",
              "      background-color: #434B5C;\n",
              "      box-shadow: 0px 1px 3px 1px rgba(0, 0, 0, 0.15);\n",
              "      filter: drop-shadow(0px 1px 2px rgba(0, 0, 0, 0.3));\n",
              "      fill: #FFFFFF;\n",
              "    }\n",
              "  </style>\n",
              "\n",
              "      <script>\n",
              "        const buttonEl =\n",
              "          document.querySelector('#df-c48eae47-e02c-448e-9eab-4e8b1f86af6c button.colab-df-convert');\n",
              "        buttonEl.style.display =\n",
              "          google.colab.kernel.accessAllowed ? 'block' : 'none';\n",
              "\n",
              "        async function convertToInteractive(key) {\n",
              "          const element = document.querySelector('#df-c48eae47-e02c-448e-9eab-4e8b1f86af6c');\n",
              "          const dataTable =\n",
              "            await google.colab.kernel.invokeFunction('convertToInteractive',\n",
              "                                                     [key], {});\n",
              "          if (!dataTable) return;\n",
              "\n",
              "          const docLinkHtml = 'Like what you see? Visit the ' +\n",
              "            '<a target=\"_blank\" href=https://colab.research.google.com/notebooks/data_table.ipynb>data table notebook</a>'\n",
              "            + ' to learn more about interactive tables.';\n",
              "          element.innerHTML = '';\n",
              "          dataTable['output_type'] = 'display_data';\n",
              "          await google.colab.output.renderOutput(dataTable, element);\n",
              "          const docLink = document.createElement('div');\n",
              "          docLink.innerHTML = docLinkHtml;\n",
              "          element.appendChild(docLink);\n",
              "        }\n",
              "      </script>\n",
              "    </div>\n",
              "  </div>\n",
              "  "
            ]
          },
          "metadata": {},
          "execution_count": 31
        }
      ]
    },
    {
      "cell_type": "markdown",
      "source": [
        "From the descriptive stats above, the min is 31.29 and max is 266.88. For products sold at a grocery stores, that seems high is the monetary unit is US Dollars.\n",
        "\n",
        "The min value is eight times lower than the max value. If the cheapest grocery item is 2 USD, then the most expensive item would be $16 USD. \n",
        "\n",
        "Those values are possible, but do not seem to account for cheap items like gum at the checkout area or more expensive items like meat or cakes in specialty departments. Will need to consult a Subject Matter Expert to better understand whether or not those values are reasonable.\n",
        "\n",
        "Without an SME, these values seem to lack any outliers and reasonable enough to move on for now."
      ],
      "metadata": {
        "id": "Lj6h6omL4xje"
      }
    },
    {
      "cell_type": "markdown",
      "source": [
        "#### Categorical Nominal Categories"
      ],
      "metadata": {
        "id": "K1hSkyZid5ss"
      }
    },
    {
      "cell_type": "markdown",
      "source": [
        "##### Item_Identifier\n",
        "\n",
        "Unique product ID"
      ],
      "metadata": {
        "id": "qUZPR51BWBuP"
      }
    },
    {
      "cell_type": "code",
      "source": [
        "# Look at the data values\n",
        "df['Item_Identifier'].value_counts()\n",
        "# Categorical Nominal data"
      ],
      "metadata": {
        "colab": {
          "base_uri": "https://localhost:8080/"
        },
        "id": "elpkJNbw2jOY",
        "outputId": "0f4e5014-77ce-4dd1-996f-566e63052c3b"
      },
      "execution_count": 32,
      "outputs": [
        {
          "output_type": "execute_result",
          "data": {
            "text/plain": [
              "FDW13    10\n",
              "FDG33    10\n",
              "NCY18     9\n",
              "FDD38     9\n",
              "DRE49     9\n",
              "         ..\n",
              "FDY43     1\n",
              "FDQ60     1\n",
              "FDO33     1\n",
              "DRF48     1\n",
              "FDC23     1\n",
              "Name: Item_Identifier, Length: 1559, dtype: int64"
            ]
          },
          "metadata": {},
          "execution_count": 32
        }
      ]
    },
    {
      "cell_type": "markdown",
      "source": [
        "* No error noted. \n",
        "* The maximum value for a single Item_Identifier is 10, which matches the number of unique stores as seen in Outlet_Identifier. This is reasonable. \n",
        "* The number of unique values (1559) also seems reasonable as the distinct products sold across 10 separate grocery stores can be quite a few (and 1559 is not an exorbitant value, either) "
      ],
      "metadata": {
        "id": "HPkys5-U25Yr"
      }
    },
    {
      "cell_type": "markdown",
      "source": [
        "##### Item_Fat_Content\n",
        "\n",
        "Whether the product is low fat or regular"
      ],
      "metadata": {
        "id": "S4DkaUrOZEkV"
      }
    },
    {
      "cell_type": "code",
      "source": [
        "# Let's see what we have for Item_Fat_Content\n",
        "df['Item_Fat_Content'].value_counts()"
      ],
      "metadata": {
        "colab": {
          "base_uri": "https://localhost:8080/"
        },
        "id": "qr_a9O85Do8h",
        "outputId": "175f67f9-61aa-491a-8ee4-116a10ca2881"
      },
      "execution_count": 33,
      "outputs": [
        {
          "output_type": "execute_result",
          "data": {
            "text/plain": [
              "Low Fat    5089\n",
              "Regular    2889\n",
              "LF          316\n",
              "reg         117\n",
              "low fat     112\n",
              "Name: Item_Fat_Content, dtype: int64"
            ]
          },
          "metadata": {},
          "execution_count": 33
        }
      ]
    },
    {
      "cell_type": "markdown",
      "source": [
        "Looks like we should only have two categories instad of five. Let's combine the correlating categories:"
      ],
      "metadata": {
        "id": "lw9lRZL6ZNv1"
      }
    },
    {
      "cell_type": "code",
      "source": [
        "# Change 'LF' to 'Low Fat'\n",
        "df['Item_Fat_Content'].replace('LF', 'Low Fat', inplace=True)\n",
        "\n",
        "# Verify 'LF' replaced\n",
        "df['Item_Fat_Content'].value_counts()"
      ],
      "metadata": {
        "colab": {
          "base_uri": "https://localhost:8080/"
        },
        "id": "cYENpe43FyVW",
        "outputId": "e81f0075-555f-4155-9588-ac51513fb8d2"
      },
      "execution_count": 34,
      "outputs": [
        {
          "output_type": "execute_result",
          "data": {
            "text/plain": [
              "Low Fat    5405\n",
              "Regular    2889\n",
              "reg         117\n",
              "low fat     112\n",
              "Name: Item_Fat_Content, dtype: int64"
            ]
          },
          "metadata": {},
          "execution_count": 34
        }
      ]
    },
    {
      "cell_type": "code",
      "source": [
        "# Change 'low fat' to 'Low Fat'\n",
        "df['Item_Fat_Content'].replace('low fat', 'Low Fat', inplace=True)\n",
        "\n",
        "# Verify 'low fat' replaced\n",
        "df['Item_Fat_Content'].value_counts()"
      ],
      "metadata": {
        "colab": {
          "base_uri": "https://localhost:8080/"
        },
        "id": "WHd0JpR0JxKM",
        "outputId": "90cd3945-10c1-4a12-f50d-7d96e9d7c149"
      },
      "execution_count": 35,
      "outputs": [
        {
          "output_type": "execute_result",
          "data": {
            "text/plain": [
              "Low Fat    5517\n",
              "Regular    2889\n",
              "reg         117\n",
              "Name: Item_Fat_Content, dtype: int64"
            ]
          },
          "metadata": {},
          "execution_count": 35
        }
      ]
    },
    {
      "cell_type": "code",
      "source": [
        "# Change 'reg' to 'Regular'\n",
        "df['Item_Fat_Content'].replace('reg', 'Regular', inplace=True)\n",
        "\n",
        "# Verify 'reg' replaced\n",
        "df['Item_Fat_Content'].value_counts()"
      ],
      "metadata": {
        "colab": {
          "base_uri": "https://localhost:8080/"
        },
        "id": "GbSrC6b3KRPX",
        "outputId": "6653957b-1863-4b2a-c343-20db26e6b5b7"
      },
      "execution_count": 36,
      "outputs": [
        {
          "output_type": "execute_result",
          "data": {
            "text/plain": [
              "Low Fat    5517\n",
              "Regular    3006\n",
              "Name: Item_Fat_Content, dtype: int64"
            ]
          },
          "metadata": {},
          "execution_count": 36
        }
      ]
    },
    {
      "cell_type": "markdown",
      "source": [
        "* Item_Fat_Content  had duplicate data with different value names combined into the actual two categories that are represented"
      ],
      "metadata": {
        "id": "FggWSR1ALQIb"
      }
    },
    {
      "cell_type": "markdown",
      "source": [
        "##### Outlet_Identifier\n",
        "\n",
        "Unique store ID"
      ],
      "metadata": {
        "id": "qsPRPBZklcBd"
      }
    },
    {
      "cell_type": "code",
      "source": [
        "# Determine Data Type for Outlet_Identifier\n",
        "df['Outlet_Identifier'].value_counts()\n",
        "# Categorical Nominal"
      ],
      "metadata": {
        "colab": {
          "base_uri": "https://localhost:8080/"
        },
        "id": "8DXCfqYrmIDN",
        "outputId": "f96d6056-8837-4eb6-b79c-41928f2c1d70"
      },
      "execution_count": 37,
      "outputs": [
        {
          "output_type": "execute_result",
          "data": {
            "text/plain": [
              "OUT027    935\n",
              "OUT013    932\n",
              "OUT049    930\n",
              "OUT046    930\n",
              "OUT035    930\n",
              "OUT045    929\n",
              "OUT018    928\n",
              "OUT017    926\n",
              "OUT010    555\n",
              "OUT019    528\n",
              "Name: Outlet_Identifier, dtype: int64"
            ]
          },
          "metadata": {},
          "execution_count": 37
        }
      ]
    },
    {
      "cell_type": "code",
      "source": [
        "df['Outlet_Identifier'].nunique()\n",
        "# dataset includes data from 10 unique stores"
      ],
      "metadata": {
        "colab": {
          "base_uri": "https://localhost:8080/"
        },
        "id": "vZXoisHjnE8_",
        "outputId": "2d46af5b-1375-4eab-986c-b97569a81535"
      },
      "execution_count": 38,
      "outputs": [
        {
          "output_type": "execute_result",
          "data": {
            "text/plain": [
              "10"
            ]
          },
          "metadata": {},
          "execution_count": 38
        }
      ]
    },
    {
      "cell_type": "markdown",
      "source": [
        "* Values in Outlet_Identifier look reasonable and represent the number of items sold at each of the included grocery stores."
      ],
      "metadata": {
        "id": "qAJGDDqgoL2G"
      }
    },
    {
      "cell_type": "markdown",
      "source": [
        "##### Item_Type\n",
        "\n",
        "The category to which the product belongs"
      ],
      "metadata": {
        "id": "2ploN3txj9sI"
      }
    },
    {
      "cell_type": "code",
      "source": [
        "# Verify if the product categories look reasonable for Item_Type\n",
        "df['Item_Type'].value_counts()"
      ],
      "metadata": {
        "colab": {
          "base_uri": "https://localhost:8080/"
        },
        "id": "9GyXmSGhohP0",
        "outputId": "06c16b8d-a65d-4104-8e05-ee2483accd54"
      },
      "execution_count": 39,
      "outputs": [
        {
          "output_type": "execute_result",
          "data": {
            "text/plain": [
              "Fruits and Vegetables    1232\n",
              "Snack Foods              1200\n",
              "Household                 910\n",
              "Frozen Foods              856\n",
              "Dairy                     682\n",
              "Canned                    649\n",
              "Baking Goods              648\n",
              "Health and Hygiene        520\n",
              "Soft Drinks               445\n",
              "Meat                      425\n",
              "Breads                    251\n",
              "Hard Drinks               214\n",
              "Others                    169\n",
              "Starchy Foods             148\n",
              "Breakfast                 110\n",
              "Seafood                    64\n",
              "Name: Item_Type, dtype: int64"
            ]
          },
          "metadata": {},
          "execution_count": 39
        }
      ]
    },
    {
      "cell_type": "markdown",
      "source": [
        "* Product categories do indeed look reasonable. No errors noted."
      ],
      "metadata": {
        "id": "Wp_DlcZrpCtR"
      }
    },
    {
      "cell_type": "markdown",
      "source": [
        "#### Categorical Ordinal Categories"
      ],
      "metadata": {
        "id": "v1UA5ruTd_SF"
      }
    },
    {
      "cell_type": "markdown",
      "source": [
        "##### Outlet_Size\n",
        "\n",
        "The size of the store in terms of ground area covered"
      ],
      "metadata": {
        "id": "Q0UTDe1GlzGJ"
      }
    },
    {
      "cell_type": "code",
      "source": [
        "# Evaluate data values\n",
        "df['Outlet_Size'].value_counts()\n",
        "# Categorical Ordinal"
      ],
      "metadata": {
        "colab": {
          "base_uri": "https://localhost:8080/"
        },
        "id": "n8TUeuzhrIIJ",
        "outputId": "21669948-3de3-41ae-b50c-7d5e2081809f"
      },
      "execution_count": 40,
      "outputs": [
        {
          "output_type": "execute_result",
          "data": {
            "text/plain": [
              "Medium    5203\n",
              "Small     2388\n",
              "High       932\n",
              "Name: Outlet_Size, dtype: int64"
            ]
          },
          "metadata": {},
          "execution_count": 40
        }
      ]
    },
    {
      "cell_type": "markdown",
      "source": [
        "* \"High\" does not seem to match the same format as \"Small\" and \"Medium\". May need to check with a Subject Matter Expert to see if \"High\" should be changed to \"Large\" or if \"High\" is the correct term for where the data was collected, but for now, will proceed and change value to \"Large\" to reduce confusion."
      ],
      "metadata": {
        "id": "Hg2-K-bMrQYz"
      }
    },
    {
      "cell_type": "code",
      "source": [
        "# Change Outlet_Size value \"High\" to \"Large\"\n",
        "df.Outlet_Size = df.Outlet_Size.replace('High', 'Large')\n",
        "df.Outlet_Size.value_counts()"
      ],
      "metadata": {
        "colab": {
          "base_uri": "https://localhost:8080/"
        },
        "id": "lLHmW4TzRiFG",
        "outputId": "3bd2efe0-9021-4a2c-ac04-df6edd842f4e"
      },
      "execution_count": 41,
      "outputs": [
        {
          "output_type": "execute_result",
          "data": {
            "text/plain": [
              "Medium    5203\n",
              "Small     2388\n",
              "Large      932\n",
              "Name: Outlet_Size, dtype: int64"
            ]
          },
          "metadata": {},
          "execution_count": 41
        }
      ]
    },
    {
      "cell_type": "markdown",
      "source": [
        "* The \"High\" value in Outlet_Size has successfully been replaced with \"Large.\""
      ],
      "metadata": {
        "id": "EZk4aMlzSoMO"
      }
    },
    {
      "cell_type": "markdown",
      "source": [
        "##### Outlet_Location_Type\n",
        "\n",
        "The type of area in which the store is located"
      ],
      "metadata": {
        "id": "xa_GK6zyl285"
      }
    },
    {
      "cell_type": "code",
      "source": [
        "# Evaluate Data values\n",
        "df['Outlet_Location_Type'].value_counts()\n",
        "# Categorical Ordinal"
      ],
      "metadata": {
        "colab": {
          "base_uri": "https://localhost:8080/"
        },
        "id": "sN5DhrWWvBsi",
        "outputId": "48f00c9e-85f4-480c-831f-b7ad03c0302c"
      },
      "execution_count": 42,
      "outputs": [
        {
          "output_type": "execute_result",
          "data": {
            "text/plain": [
              "Tier 3    3350\n",
              "Tier 2    2785\n",
              "Tier 1    2388\n",
              "Name: Outlet_Location_Type, dtype: int64"
            ]
          },
          "metadata": {},
          "execution_count": 42
        }
      ]
    },
    {
      "cell_type": "markdown",
      "source": [
        "* No error noted. Values seem reasonable."
      ],
      "metadata": {
        "id": "fhw_cHOMA0JO"
      }
    },
    {
      "cell_type": "markdown",
      "source": [
        "##### Outlet_Type\n",
        "\n",
        "Whether the outlet is a grocery store or some sort of supermarket"
      ],
      "metadata": {
        "id": "EKXROHlCl6ji"
      }
    },
    {
      "cell_type": "code",
      "source": [
        "# Evaluate data values\n",
        "df['Outlet_Type'].value_counts()\n",
        "# Categorical Ordinal"
      ],
      "metadata": {
        "colab": {
          "base_uri": "https://localhost:8080/"
        },
        "id": "5sWpdaKDvnMg",
        "outputId": "ca1c6ea0-175d-45cd-d9b9-5b3907cb8b2b"
      },
      "execution_count": 43,
      "outputs": [
        {
          "output_type": "execute_result",
          "data": {
            "text/plain": [
              "Supermarket Type1    5577\n",
              "Grocery Store        1083\n",
              "Supermarket Type3     935\n",
              "Supermarket Type2     928\n",
              "Name: Outlet_Type, dtype: int64"
            ]
          },
          "metadata": {},
          "execution_count": 43
        }
      ]
    },
    {
      "cell_type": "markdown",
      "source": [
        "* No errors noted. This category seems to correlate with Outlet_Size."
      ],
      "metadata": {
        "id": "w1I7mY-Cvt49"
      }
    },
    {
      "cell_type": "markdown",
      "source": [
        "### Summary Statistics for Numerical Data\n",
        "\n",
        "8. For any numerical columns, obtain the summary statistics of each (min, max, mean)."
      ],
      "metadata": {
        "id": "BWvKzJL_kENy"
      }
    },
    {
      "cell_type": "code",
      "source": [
        "# Find summary statistics for Numerical categoeries.\n",
        "df.describe(include=\"number\")"
      ],
      "metadata": {
        "colab": {
          "base_uri": "https://localhost:8080/",
          "height": 297
        },
        "id": "gyvcayFe372e",
        "outputId": "b6f46b5e-cd13-4d0d-83f4-0f671314d8d6"
      },
      "execution_count": 44,
      "outputs": [
        {
          "output_type": "execute_result",
          "data": {
            "text/plain": [
              "       Item_Weight  Item_Visibility     Item_MRP  Outlet_Establishment_Year  \\\n",
              "count   8523.00000      8523.000000  8523.000000                8523.000000   \n",
              "mean      12.81342         0.066132   140.992782                1997.831867   \n",
              "std        4.22724         0.051598    62.275067                   8.371760   \n",
              "min        4.55500         0.000000    31.290000                1985.000000   \n",
              "25%        9.31000         0.026989    93.826500                1987.000000   \n",
              "50%       12.60000         0.053931   143.012800                1999.000000   \n",
              "75%       16.00000         0.094585   185.643700                2004.000000   \n",
              "max       21.35000         0.328391   266.888400                2009.000000   \n",
              "\n",
              "       Item_Outlet_Sales  \n",
              "count        8523.000000  \n",
              "mean         2181.288914  \n",
              "std          1706.499616  \n",
              "min            33.290000  \n",
              "25%           834.247400  \n",
              "50%          1794.331000  \n",
              "75%          3101.296400  \n",
              "max         13086.964800  "
            ],
            "text/html": [
              "\n",
              "  <div id=\"df-3608008c-9487-4613-a97c-4d9fcafce29c\">\n",
              "    <div class=\"colab-df-container\">\n",
              "      <div>\n",
              "<style scoped>\n",
              "    .dataframe tbody tr th:only-of-type {\n",
              "        vertical-align: middle;\n",
              "    }\n",
              "\n",
              "    .dataframe tbody tr th {\n",
              "        vertical-align: top;\n",
              "    }\n",
              "\n",
              "    .dataframe thead th {\n",
              "        text-align: right;\n",
              "    }\n",
              "</style>\n",
              "<table border=\"1\" class=\"dataframe\">\n",
              "  <thead>\n",
              "    <tr style=\"text-align: right;\">\n",
              "      <th></th>\n",
              "      <th>Item_Weight</th>\n",
              "      <th>Item_Visibility</th>\n",
              "      <th>Item_MRP</th>\n",
              "      <th>Outlet_Establishment_Year</th>\n",
              "      <th>Item_Outlet_Sales</th>\n",
              "    </tr>\n",
              "  </thead>\n",
              "  <tbody>\n",
              "    <tr>\n",
              "      <th>count</th>\n",
              "      <td>8523.00000</td>\n",
              "      <td>8523.000000</td>\n",
              "      <td>8523.000000</td>\n",
              "      <td>8523.000000</td>\n",
              "      <td>8523.000000</td>\n",
              "    </tr>\n",
              "    <tr>\n",
              "      <th>mean</th>\n",
              "      <td>12.81342</td>\n",
              "      <td>0.066132</td>\n",
              "      <td>140.992782</td>\n",
              "      <td>1997.831867</td>\n",
              "      <td>2181.288914</td>\n",
              "    </tr>\n",
              "    <tr>\n",
              "      <th>std</th>\n",
              "      <td>4.22724</td>\n",
              "      <td>0.051598</td>\n",
              "      <td>62.275067</td>\n",
              "      <td>8.371760</td>\n",
              "      <td>1706.499616</td>\n",
              "    </tr>\n",
              "    <tr>\n",
              "      <th>min</th>\n",
              "      <td>4.55500</td>\n",
              "      <td>0.000000</td>\n",
              "      <td>31.290000</td>\n",
              "      <td>1985.000000</td>\n",
              "      <td>33.290000</td>\n",
              "    </tr>\n",
              "    <tr>\n",
              "      <th>25%</th>\n",
              "      <td>9.31000</td>\n",
              "      <td>0.026989</td>\n",
              "      <td>93.826500</td>\n",
              "      <td>1987.000000</td>\n",
              "      <td>834.247400</td>\n",
              "    </tr>\n",
              "    <tr>\n",
              "      <th>50%</th>\n",
              "      <td>12.60000</td>\n",
              "      <td>0.053931</td>\n",
              "      <td>143.012800</td>\n",
              "      <td>1999.000000</td>\n",
              "      <td>1794.331000</td>\n",
              "    </tr>\n",
              "    <tr>\n",
              "      <th>75%</th>\n",
              "      <td>16.00000</td>\n",
              "      <td>0.094585</td>\n",
              "      <td>185.643700</td>\n",
              "      <td>2004.000000</td>\n",
              "      <td>3101.296400</td>\n",
              "    </tr>\n",
              "    <tr>\n",
              "      <th>max</th>\n",
              "      <td>21.35000</td>\n",
              "      <td>0.328391</td>\n",
              "      <td>266.888400</td>\n",
              "      <td>2009.000000</td>\n",
              "      <td>13086.964800</td>\n",
              "    </tr>\n",
              "  </tbody>\n",
              "</table>\n",
              "</div>\n",
              "      <button class=\"colab-df-convert\" onclick=\"convertToInteractive('df-3608008c-9487-4613-a97c-4d9fcafce29c')\"\n",
              "              title=\"Convert this dataframe to an interactive table.\"\n",
              "              style=\"display:none;\">\n",
              "        \n",
              "  <svg xmlns=\"http://www.w3.org/2000/svg\" height=\"24px\"viewBox=\"0 0 24 24\"\n",
              "       width=\"24px\">\n",
              "    <path d=\"M0 0h24v24H0V0z\" fill=\"none\"/>\n",
              "    <path d=\"M18.56 5.44l.94 2.06.94-2.06 2.06-.94-2.06-.94-.94-2.06-.94 2.06-2.06.94zm-11 1L8.5 8.5l.94-2.06 2.06-.94-2.06-.94L8.5 2.5l-.94 2.06-2.06.94zm10 10l.94 2.06.94-2.06 2.06-.94-2.06-.94-.94-2.06-.94 2.06-2.06.94z\"/><path d=\"M17.41 7.96l-1.37-1.37c-.4-.4-.92-.59-1.43-.59-.52 0-1.04.2-1.43.59L10.3 9.45l-7.72 7.72c-.78.78-.78 2.05 0 2.83L4 21.41c.39.39.9.59 1.41.59.51 0 1.02-.2 1.41-.59l7.78-7.78 2.81-2.81c.8-.78.8-2.07 0-2.86zM5.41 20L4 18.59l7.72-7.72 1.47 1.35L5.41 20z\"/>\n",
              "  </svg>\n",
              "      </button>\n",
              "      \n",
              "  <style>\n",
              "    .colab-df-container {\n",
              "      display:flex;\n",
              "      flex-wrap:wrap;\n",
              "      gap: 12px;\n",
              "    }\n",
              "\n",
              "    .colab-df-convert {\n",
              "      background-color: #E8F0FE;\n",
              "      border: none;\n",
              "      border-radius: 50%;\n",
              "      cursor: pointer;\n",
              "      display: none;\n",
              "      fill: #1967D2;\n",
              "      height: 32px;\n",
              "      padding: 0 0 0 0;\n",
              "      width: 32px;\n",
              "    }\n",
              "\n",
              "    .colab-df-convert:hover {\n",
              "      background-color: #E2EBFA;\n",
              "      box-shadow: 0px 1px 2px rgba(60, 64, 67, 0.3), 0px 1px 3px 1px rgba(60, 64, 67, 0.15);\n",
              "      fill: #174EA6;\n",
              "    }\n",
              "\n",
              "    [theme=dark] .colab-df-convert {\n",
              "      background-color: #3B4455;\n",
              "      fill: #D2E3FC;\n",
              "    }\n",
              "\n",
              "    [theme=dark] .colab-df-convert:hover {\n",
              "      background-color: #434B5C;\n",
              "      box-shadow: 0px 1px 3px 1px rgba(0, 0, 0, 0.15);\n",
              "      filter: drop-shadow(0px 1px 2px rgba(0, 0, 0, 0.3));\n",
              "      fill: #FFFFFF;\n",
              "    }\n",
              "  </style>\n",
              "\n",
              "      <script>\n",
              "        const buttonEl =\n",
              "          document.querySelector('#df-3608008c-9487-4613-a97c-4d9fcafce29c button.colab-df-convert');\n",
              "        buttonEl.style.display =\n",
              "          google.colab.kernel.accessAllowed ? 'block' : 'none';\n",
              "\n",
              "        async function convertToInteractive(key) {\n",
              "          const element = document.querySelector('#df-3608008c-9487-4613-a97c-4d9fcafce29c');\n",
              "          const dataTable =\n",
              "            await google.colab.kernel.invokeFunction('convertToInteractive',\n",
              "                                                     [key], {});\n",
              "          if (!dataTable) return;\n",
              "\n",
              "          const docLinkHtml = 'Like what you see? Visit the ' +\n",
              "            '<a target=\"_blank\" href=https://colab.research.google.com/notebooks/data_table.ipynb>data table notebook</a>'\n",
              "            + ' to learn more about interactive tables.';\n",
              "          element.innerHTML = '';\n",
              "          dataTable['output_type'] = 'display_data';\n",
              "          await google.colab.output.renderOutput(dataTable, element);\n",
              "          const docLink = document.createElement('div');\n",
              "          docLink.innerHTML = docLinkHtml;\n",
              "          element.appendChild(docLink);\n",
              "        }\n",
              "      </script>\n",
              "    </div>\n",
              "  </div>\n",
              "  "
            ]
          },
          "metadata": {},
          "execution_count": 44
        }
      ]
    },
    {
      "cell_type": "markdown",
      "source": [
        "8.1 For any categorical columns, obtain the summary statistics of each."
      ],
      "metadata": {
        "id": "wAmetEZ_9h7G"
      }
    },
    {
      "cell_type": "code",
      "source": [
        "# Find summary statistics for Categorical categoeries.\n",
        "df.describe(include=\"object\")"
      ],
      "metadata": {
        "colab": {
          "base_uri": "https://localhost:8080/",
          "height": 254
        },
        "id": "IOqmuuuO9t8h",
        "outputId": "c4b278c2-b786-4b71-a84f-755cb584e647"
      },
      "execution_count": 45,
      "outputs": [
        {
          "output_type": "execute_result",
          "data": {
            "text/plain": [
              "       Item_Identifier Item_Fat_Content              Item_Type  \\\n",
              "count             8523             8523                   8523   \n",
              "unique            1559                2                     16   \n",
              "top              FDW13          Low Fat  Fruits and Vegetables   \n",
              "freq                10             5517                   1232   \n",
              "\n",
              "       Outlet_Identifier Outlet_Size Outlet_Location_Type        Outlet_Type  \n",
              "count               8523        8523                 8523               8523  \n",
              "unique                10           3                    3                  4  \n",
              "top               OUT027      Medium               Tier 3  Supermarket Type1  \n",
              "freq                 935        5203                 3350               5577  "
            ],
            "text/html": [
              "\n",
              "  <div id=\"df-4d765196-25c4-4663-978b-1a139fda91a8\">\n",
              "    <div class=\"colab-df-container\">\n",
              "      <div>\n",
              "<style scoped>\n",
              "    .dataframe tbody tr th:only-of-type {\n",
              "        vertical-align: middle;\n",
              "    }\n",
              "\n",
              "    .dataframe tbody tr th {\n",
              "        vertical-align: top;\n",
              "    }\n",
              "\n",
              "    .dataframe thead th {\n",
              "        text-align: right;\n",
              "    }\n",
              "</style>\n",
              "<table border=\"1\" class=\"dataframe\">\n",
              "  <thead>\n",
              "    <tr style=\"text-align: right;\">\n",
              "      <th></th>\n",
              "      <th>Item_Identifier</th>\n",
              "      <th>Item_Fat_Content</th>\n",
              "      <th>Item_Type</th>\n",
              "      <th>Outlet_Identifier</th>\n",
              "      <th>Outlet_Size</th>\n",
              "      <th>Outlet_Location_Type</th>\n",
              "      <th>Outlet_Type</th>\n",
              "    </tr>\n",
              "  </thead>\n",
              "  <tbody>\n",
              "    <tr>\n",
              "      <th>count</th>\n",
              "      <td>8523</td>\n",
              "      <td>8523</td>\n",
              "      <td>8523</td>\n",
              "      <td>8523</td>\n",
              "      <td>8523</td>\n",
              "      <td>8523</td>\n",
              "      <td>8523</td>\n",
              "    </tr>\n",
              "    <tr>\n",
              "      <th>unique</th>\n",
              "      <td>1559</td>\n",
              "      <td>2</td>\n",
              "      <td>16</td>\n",
              "      <td>10</td>\n",
              "      <td>3</td>\n",
              "      <td>3</td>\n",
              "      <td>4</td>\n",
              "    </tr>\n",
              "    <tr>\n",
              "      <th>top</th>\n",
              "      <td>FDW13</td>\n",
              "      <td>Low Fat</td>\n",
              "      <td>Fruits and Vegetables</td>\n",
              "      <td>OUT027</td>\n",
              "      <td>Medium</td>\n",
              "      <td>Tier 3</td>\n",
              "      <td>Supermarket Type1</td>\n",
              "    </tr>\n",
              "    <tr>\n",
              "      <th>freq</th>\n",
              "      <td>10</td>\n",
              "      <td>5517</td>\n",
              "      <td>1232</td>\n",
              "      <td>935</td>\n",
              "      <td>5203</td>\n",
              "      <td>3350</td>\n",
              "      <td>5577</td>\n",
              "    </tr>\n",
              "  </tbody>\n",
              "</table>\n",
              "</div>\n",
              "      <button class=\"colab-df-convert\" onclick=\"convertToInteractive('df-4d765196-25c4-4663-978b-1a139fda91a8')\"\n",
              "              title=\"Convert this dataframe to an interactive table.\"\n",
              "              style=\"display:none;\">\n",
              "        \n",
              "  <svg xmlns=\"http://www.w3.org/2000/svg\" height=\"24px\"viewBox=\"0 0 24 24\"\n",
              "       width=\"24px\">\n",
              "    <path d=\"M0 0h24v24H0V0z\" fill=\"none\"/>\n",
              "    <path d=\"M18.56 5.44l.94 2.06.94-2.06 2.06-.94-2.06-.94-.94-2.06-.94 2.06-2.06.94zm-11 1L8.5 8.5l.94-2.06 2.06-.94-2.06-.94L8.5 2.5l-.94 2.06-2.06.94zm10 10l.94 2.06.94-2.06 2.06-.94-2.06-.94-.94-2.06-.94 2.06-2.06.94z\"/><path d=\"M17.41 7.96l-1.37-1.37c-.4-.4-.92-.59-1.43-.59-.52 0-1.04.2-1.43.59L10.3 9.45l-7.72 7.72c-.78.78-.78 2.05 0 2.83L4 21.41c.39.39.9.59 1.41.59.51 0 1.02-.2 1.41-.59l7.78-7.78 2.81-2.81c.8-.78.8-2.07 0-2.86zM5.41 20L4 18.59l7.72-7.72 1.47 1.35L5.41 20z\"/>\n",
              "  </svg>\n",
              "      </button>\n",
              "      \n",
              "  <style>\n",
              "    .colab-df-container {\n",
              "      display:flex;\n",
              "      flex-wrap:wrap;\n",
              "      gap: 12px;\n",
              "    }\n",
              "\n",
              "    .colab-df-convert {\n",
              "      background-color: #E8F0FE;\n",
              "      border: none;\n",
              "      border-radius: 50%;\n",
              "      cursor: pointer;\n",
              "      display: none;\n",
              "      fill: #1967D2;\n",
              "      height: 32px;\n",
              "      padding: 0 0 0 0;\n",
              "      width: 32px;\n",
              "    }\n",
              "\n",
              "    .colab-df-convert:hover {\n",
              "      background-color: #E2EBFA;\n",
              "      box-shadow: 0px 1px 2px rgba(60, 64, 67, 0.3), 0px 1px 3px 1px rgba(60, 64, 67, 0.15);\n",
              "      fill: #174EA6;\n",
              "    }\n",
              "\n",
              "    [theme=dark] .colab-df-convert {\n",
              "      background-color: #3B4455;\n",
              "      fill: #D2E3FC;\n",
              "    }\n",
              "\n",
              "    [theme=dark] .colab-df-convert:hover {\n",
              "      background-color: #434B5C;\n",
              "      box-shadow: 0px 1px 3px 1px rgba(0, 0, 0, 0.15);\n",
              "      filter: drop-shadow(0px 1px 2px rgba(0, 0, 0, 0.3));\n",
              "      fill: #FFFFFF;\n",
              "    }\n",
              "  </style>\n",
              "\n",
              "      <script>\n",
              "        const buttonEl =\n",
              "          document.querySelector('#df-4d765196-25c4-4663-978b-1a139fda91a8 button.colab-df-convert');\n",
              "        buttonEl.style.display =\n",
              "          google.colab.kernel.accessAllowed ? 'block' : 'none';\n",
              "\n",
              "        async function convertToInteractive(key) {\n",
              "          const element = document.querySelector('#df-4d765196-25c4-4663-978b-1a139fda91a8');\n",
              "          const dataTable =\n",
              "            await google.colab.kernel.invokeFunction('convertToInteractive',\n",
              "                                                     [key], {});\n",
              "          if (!dataTable) return;\n",
              "\n",
              "          const docLinkHtml = 'Like what you see? Visit the ' +\n",
              "            '<a target=\"_blank\" href=https://colab.research.google.com/notebooks/data_table.ipynb>data table notebook</a>'\n",
              "            + ' to learn more about interactive tables.';\n",
              "          element.innerHTML = '';\n",
              "          dataTable['output_type'] = 'display_data';\n",
              "          await google.colab.output.renderOutput(dataTable, element);\n",
              "          const docLink = document.createElement('div');\n",
              "          docLink.innerHTML = docLinkHtml;\n",
              "          element.appendChild(docLink);\n",
              "        }\n",
              "      </script>\n",
              "    </div>\n",
              "  </div>\n",
              "  "
            ]
          },
          "metadata": {},
          "execution_count": 45
        }
      ]
    },
    {
      "cell_type": "markdown",
      "source": [
        "![Screenshot 2023-04-06 at 9.37.08 PM.png](data:image/png;base64,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)"
      ],
      "metadata": {
        "id": "ClveIo87kmIu"
      }
    },
    {
      "cell_type": "markdown",
      "source": [
        "## Statistical Analyses\n",
        "Understand, explain, and model the data. "
      ],
      "metadata": {
        "id": "wOc4WJrZ48-c"
      }
    },
    {
      "cell_type": "code",
      "source": [
        "# Set corr \n",
        "corr = df.corr()"
      ],
      "metadata": {
        "id": "1bPobZvgB2sv"
      },
      "execution_count": 46,
      "outputs": []
    },
    {
      "cell_type": "code",
      "source": [
        "# display head for reference\n",
        "df.head()"
      ],
      "metadata": {
        "colab": {
          "base_uri": "https://localhost:8080/",
          "height": 353
        },
        "id": "PPCvMsVN_9Db",
        "outputId": "b333f011-cfac-4c4b-fbe9-d669bcebb479"
      },
      "execution_count": 47,
      "outputs": [
        {
          "output_type": "execute_result",
          "data": {
            "text/plain": [
              "  Item_Identifier  Item_Weight Item_Fat_Content  Item_Visibility  \\\n",
              "0           FDA15         9.30          Low Fat         0.016047   \n",
              "1           DRC01         5.92          Regular         0.019278   \n",
              "2           FDN15        17.50          Low Fat         0.016760   \n",
              "3           FDX07        19.20          Regular         0.000000   \n",
              "4           NCD19         8.93          Low Fat         0.000000   \n",
              "\n",
              "               Item_Type  Item_MRP Outlet_Identifier  \\\n",
              "0                  Dairy  249.8092            OUT049   \n",
              "1            Soft Drinks   48.2692            OUT018   \n",
              "2                   Meat  141.6180            OUT049   \n",
              "3  Fruits and Vegetables  182.0950            OUT010   \n",
              "4              Household   53.8614            OUT013   \n",
              "\n",
              "   Outlet_Establishment_Year Outlet_Size Outlet_Location_Type  \\\n",
              "0                       1999      Medium               Tier 1   \n",
              "1                       2009      Medium               Tier 3   \n",
              "2                       1999      Medium               Tier 1   \n",
              "3                       1998      Medium               Tier 3   \n",
              "4                       1987       Large               Tier 3   \n",
              "\n",
              "         Outlet_Type  Item_Outlet_Sales  \n",
              "0  Supermarket Type1          3735.1380  \n",
              "1  Supermarket Type2           443.4228  \n",
              "2  Supermarket Type1          2097.2700  \n",
              "3      Grocery Store           732.3800  \n",
              "4  Supermarket Type1           994.7052  "
            ],
            "text/html": [
              "\n",
              "  <div id=\"df-26fa2f9b-c6ed-49a5-81b2-1e6ca662e3fe\">\n",
              "    <div class=\"colab-df-container\">\n",
              "      <div>\n",
              "<style scoped>\n",
              "    .dataframe tbody tr th:only-of-type {\n",
              "        vertical-align: middle;\n",
              "    }\n",
              "\n",
              "    .dataframe tbody tr th {\n",
              "        vertical-align: top;\n",
              "    }\n",
              "\n",
              "    .dataframe thead th {\n",
              "        text-align: right;\n",
              "    }\n",
              "</style>\n",
              "<table border=\"1\" class=\"dataframe\">\n",
              "  <thead>\n",
              "    <tr style=\"text-align: right;\">\n",
              "      <th></th>\n",
              "      <th>Item_Identifier</th>\n",
              "      <th>Item_Weight</th>\n",
              "      <th>Item_Fat_Content</th>\n",
              "      <th>Item_Visibility</th>\n",
              "      <th>Item_Type</th>\n",
              "      <th>Item_MRP</th>\n",
              "      <th>Outlet_Identifier</th>\n",
              "      <th>Outlet_Establishment_Year</th>\n",
              "      <th>Outlet_Size</th>\n",
              "      <th>Outlet_Location_Type</th>\n",
              "      <th>Outlet_Type</th>\n",
              "      <th>Item_Outlet_Sales</th>\n",
              "    </tr>\n",
              "  </thead>\n",
              "  <tbody>\n",
              "    <tr>\n",
              "      <th>0</th>\n",
              "      <td>FDA15</td>\n",
              "      <td>9.30</td>\n",
              "      <td>Low Fat</td>\n",
              "      <td>0.016047</td>\n",
              "      <td>Dairy</td>\n",
              "      <td>249.8092</td>\n",
              "      <td>OUT049</td>\n",
              "      <td>1999</td>\n",
              "      <td>Medium</td>\n",
              "      <td>Tier 1</td>\n",
              "      <td>Supermarket Type1</td>\n",
              "      <td>3735.1380</td>\n",
              "    </tr>\n",
              "    <tr>\n",
              "      <th>1</th>\n",
              "      <td>DRC01</td>\n",
              "      <td>5.92</td>\n",
              "      <td>Regular</td>\n",
              "      <td>0.019278</td>\n",
              "      <td>Soft Drinks</td>\n",
              "      <td>48.2692</td>\n",
              "      <td>OUT018</td>\n",
              "      <td>2009</td>\n",
              "      <td>Medium</td>\n",
              "      <td>Tier 3</td>\n",
              "      <td>Supermarket Type2</td>\n",
              "      <td>443.4228</td>\n",
              "    </tr>\n",
              "    <tr>\n",
              "      <th>2</th>\n",
              "      <td>FDN15</td>\n",
              "      <td>17.50</td>\n",
              "      <td>Low Fat</td>\n",
              "      <td>0.016760</td>\n",
              "      <td>Meat</td>\n",
              "      <td>141.6180</td>\n",
              "      <td>OUT049</td>\n",
              "      <td>1999</td>\n",
              "      <td>Medium</td>\n",
              "      <td>Tier 1</td>\n",
              "      <td>Supermarket Type1</td>\n",
              "      <td>2097.2700</td>\n",
              "    </tr>\n",
              "    <tr>\n",
              "      <th>3</th>\n",
              "      <td>FDX07</td>\n",
              "      <td>19.20</td>\n",
              "      <td>Regular</td>\n",
              "      <td>0.000000</td>\n",
              "      <td>Fruits and Vegetables</td>\n",
              "      <td>182.0950</td>\n",
              "      <td>OUT010</td>\n",
              "      <td>1998</td>\n",
              "      <td>Medium</td>\n",
              "      <td>Tier 3</td>\n",
              "      <td>Grocery Store</td>\n",
              "      <td>732.3800</td>\n",
              "    </tr>\n",
              "    <tr>\n",
              "      <th>4</th>\n",
              "      <td>NCD19</td>\n",
              "      <td>8.93</td>\n",
              "      <td>Low Fat</td>\n",
              "      <td>0.000000</td>\n",
              "      <td>Household</td>\n",
              "      <td>53.8614</td>\n",
              "      <td>OUT013</td>\n",
              "      <td>1987</td>\n",
              "      <td>Large</td>\n",
              "      <td>Tier 3</td>\n",
              "      <td>Supermarket Type1</td>\n",
              "      <td>994.7052</td>\n",
              "    </tr>\n",
              "  </tbody>\n",
              "</table>\n",
              "</div>\n",
              "      <button class=\"colab-df-convert\" onclick=\"convertToInteractive('df-26fa2f9b-c6ed-49a5-81b2-1e6ca662e3fe')\"\n",
              "              title=\"Convert this dataframe to an interactive table.\"\n",
              "              style=\"display:none;\">\n",
              "        \n",
              "  <svg xmlns=\"http://www.w3.org/2000/svg\" height=\"24px\"viewBox=\"0 0 24 24\"\n",
              "       width=\"24px\">\n",
              "    <path d=\"M0 0h24v24H0V0z\" fill=\"none\"/>\n",
              "    <path d=\"M18.56 5.44l.94 2.06.94-2.06 2.06-.94-2.06-.94-.94-2.06-.94 2.06-2.06.94zm-11 1L8.5 8.5l.94-2.06 2.06-.94-2.06-.94L8.5 2.5l-.94 2.06-2.06.94zm10 10l.94 2.06.94-2.06 2.06-.94-2.06-.94-.94-2.06-.94 2.06-2.06.94z\"/><path d=\"M17.41 7.96l-1.37-1.37c-.4-.4-.92-.59-1.43-.59-.52 0-1.04.2-1.43.59L10.3 9.45l-7.72 7.72c-.78.78-.78 2.05 0 2.83L4 21.41c.39.39.9.59 1.41.59.51 0 1.02-.2 1.41-.59l7.78-7.78 2.81-2.81c.8-.78.8-2.07 0-2.86zM5.41 20L4 18.59l7.72-7.72 1.47 1.35L5.41 20z\"/>\n",
              "  </svg>\n",
              "      </button>\n",
              "      \n",
              "  <style>\n",
              "    .colab-df-container {\n",
              "      display:flex;\n",
              "      flex-wrap:wrap;\n",
              "      gap: 12px;\n",
              "    }\n",
              "\n",
              "    .colab-df-convert {\n",
              "      background-color: #E8F0FE;\n",
              "      border: none;\n",
              "      border-radius: 50%;\n",
              "      cursor: pointer;\n",
              "      display: none;\n",
              "      fill: #1967D2;\n",
              "      height: 32px;\n",
              "      padding: 0 0 0 0;\n",
              "      width: 32px;\n",
              "    }\n",
              "\n",
              "    .colab-df-convert:hover {\n",
              "      background-color: #E2EBFA;\n",
              "      box-shadow: 0px 1px 2px rgba(60, 64, 67, 0.3), 0px 1px 3px 1px rgba(60, 64, 67, 0.15);\n",
              "      fill: #174EA6;\n",
              "    }\n",
              "\n",
              "    [theme=dark] .colab-df-convert {\n",
              "      background-color: #3B4455;\n",
              "      fill: #D2E3FC;\n",
              "    }\n",
              "\n",
              "    [theme=dark] .colab-df-convert:hover {\n",
              "      background-color: #434B5C;\n",
              "      box-shadow: 0px 1px 3px 1px rgba(0, 0, 0, 0.15);\n",
              "      filter: drop-shadow(0px 1px 2px rgba(0, 0, 0, 0.3));\n",
              "      fill: #FFFFFF;\n",
              "    }\n",
              "  </style>\n",
              "\n",
              "      <script>\n",
              "        const buttonEl =\n",
              "          document.querySelector('#df-26fa2f9b-c6ed-49a5-81b2-1e6ca662e3fe button.colab-df-convert');\n",
              "        buttonEl.style.display =\n",
              "          google.colab.kernel.accessAllowed ? 'block' : 'none';\n",
              "\n",
              "        async function convertToInteractive(key) {\n",
              "          const element = document.querySelector('#df-26fa2f9b-c6ed-49a5-81b2-1e6ca662e3fe');\n",
              "          const dataTable =\n",
              "            await google.colab.kernel.invokeFunction('convertToInteractive',\n",
              "                                                     [key], {});\n",
              "          if (!dataTable) return;\n",
              "\n",
              "          const docLinkHtml = 'Like what you see? Visit the ' +\n",
              "            '<a target=\"_blank\" href=https://colab.research.google.com/notebooks/data_table.ipynb>data table notebook</a>'\n",
              "            + ' to learn more about interactive tables.';\n",
              "          element.innerHTML = '';\n",
              "          dataTable['output_type'] = 'display_data';\n",
              "          await google.colab.output.renderOutput(dataTable, element);\n",
              "          const docLink = document.createElement('div');\n",
              "          docLink.innerHTML = docLinkHtml;\n",
              "          element.appendChild(docLink);\n",
              "        }\n",
              "      </script>\n",
              "    </div>\n",
              "  </div>\n",
              "  "
            ]
          },
          "metadata": {},
          "execution_count": 47
        }
      ]
    },
    {
      "cell_type": "code",
      "source": [
        "# display info for reference\n",
        "df.info()"
      ],
      "metadata": {
        "colab": {
          "base_uri": "https://localhost:8080/"
        },
        "id": "HyLf2EC1LxAF",
        "outputId": "5553396c-afd1-43e0-cf66-622df3d8579f"
      },
      "execution_count": 48,
      "outputs": [
        {
          "output_type": "stream",
          "name": "stdout",
          "text": [
            "<class 'pandas.core.frame.DataFrame'>\n",
            "RangeIndex: 8523 entries, 0 to 8522\n",
            "Data columns (total 12 columns):\n",
            " #   Column                     Non-Null Count  Dtype  \n",
            "---  ------                     --------------  -----  \n",
            " 0   Item_Identifier            8523 non-null   object \n",
            " 1   Item_Weight                8523 non-null   float64\n",
            " 2   Item_Fat_Content           8523 non-null   object \n",
            " 3   Item_Visibility            8523 non-null   float64\n",
            " 4   Item_Type                  8523 non-null   object \n",
            " 5   Item_MRP                   8523 non-null   float64\n",
            " 6   Outlet_Identifier          8523 non-null   object \n",
            " 7   Outlet_Establishment_Year  8523 non-null   int64  \n",
            " 8   Outlet_Size                8523 non-null   object \n",
            " 9   Outlet_Location_Type       8523 non-null   object \n",
            " 10  Outlet_Type                8523 non-null   object \n",
            " 11  Item_Outlet_Sales          8523 non-null   float64\n",
            "dtypes: float64(4), int64(1), object(7)\n",
            "memory usage: 799.2+ KB\n"
          ]
        }
      ]
    },
    {
      "cell_type": "markdown",
      "source": [
        "### Numerical Discrete Categories"
      ],
      "metadata": {
        "id": "sMFMPJFVF_Cd"
      }
    },
    {
      "cell_type": "markdown",
      "source": [
        "#### Outlet_Establishment_Year\n",
        "Describe the column to view the summary statistics."
      ],
      "metadata": {
        "id": "4WCxHZQgUqoe"
      }
    },
    {
      "cell_type": "code",
      "source": [
        "df['Outlet_Establishment_Year'].describe()"
      ],
      "metadata": {
        "colab": {
          "base_uri": "https://localhost:8080/"
        },
        "id": "Ps829dnTRyKe",
        "outputId": "4eaea349-3816-4150-ea51-369a2274d2d4"
      },
      "execution_count": 50,
      "outputs": [
        {
          "output_type": "execute_result",
          "data": {
            "text/plain": [
              "count    8523.000000\n",
              "mean     1997.831867\n",
              "std         8.371760\n",
              "min      1985.000000\n",
              "25%      1987.000000\n",
              "50%      1999.000000\n",
              "75%      2004.000000\n",
              "max      2009.000000\n",
              "Name: Outlet_Establishment_Year, dtype: float64"
            ]
          },
          "metadata": {},
          "execution_count": 50
        }
      ]
    },
    {
      "cell_type": "markdown",
      "source": [
        "View the counts for each value in the column."
      ],
      "metadata": {
        "id": "gCoBEMPry_R9"
      }
    },
    {
      "cell_type": "code",
      "source": [
        "df['Outlet_Establishment_Year'].value_counts()"
      ],
      "metadata": {
        "colab": {
          "base_uri": "https://localhost:8080/"
        },
        "id": "45KHKINoTON6",
        "outputId": "416be251-0919-4c7d-adac-b6214b89088d"
      },
      "execution_count": 54,
      "outputs": [
        {
          "output_type": "execute_result",
          "data": {
            "text/plain": [
              "1985    1463\n",
              "1987     932\n",
              "1999     930\n",
              "1997     930\n",
              "2004     930\n",
              "2002     929\n",
              "2009     928\n",
              "2007     926\n",
              "1998     555\n",
              "Name: Outlet_Establishment_Year, dtype: int64"
            ]
          },
          "metadata": {},
          "execution_count": 54
        }
      ]
    },
    {
      "cell_type": "markdown",
      "source": [
        "Visualize the data."
      ],
      "metadata": {
        "id": "PkUoLXW2zIhP"
      }
    },
    {
      "cell_type": "code",
      "source": [
        "ax = df['Outlet_Establishment_Year'].hist(bins = 30, edgecolor = 'black')\n",
        "ax.tick_params(axis='x', rotation=45)\n",
        "ax.ticklabel_format(style='plain');\n",
        "ax.set_title('Distribution of Year Established')\n",
        "ax.set_xlabel('Year')\n",
        "ax.set_ylabel('Number of Items Sold at Store Established in Year');"
      ],
      "metadata": {
        "colab": {
          "base_uri": "https://localhost:8080/",
          "height": 493
        },
        "id": "X6sDbY1NSmVH",
        "outputId": "8c585379-ab83-421c-8ba9-85203428b696"
      },
      "execution_count": 57,
      "outputs": [
        {
          "output_type": "display_data",
          "data": {
            "text/plain": [
              "<Figure size 640x480 with 1 Axes>"
            ],
            "image/png": "[encoded data removed]"
          },
          "metadata": {}
        }
      ]
    },
    {
      "cell_type": "markdown",
      "source": [
        "* A histogram counting the total number of items being sold at all stores established in a particular year.\n",
        "* This visualization does not seem to be useful.\n",
        "* A better visualization would show the year each store was established."
      ],
      "metadata": {
        "id": "uyWZUW4dU6Ln"
      }
    },
    {
      "cell_type": "markdown",
      "source": [
        "### Numerical Continuous Categories"
      ],
      "metadata": {
        "id": "1LOWQQAK5x_H"
      }
    },
    {
      "cell_type": "markdown",
      "source": [
        "#### Item_Weight\n",
        "Describe the column to view the summary statistics."
      ],
      "metadata": {
        "id": "UTjULuVHVd9e"
      }
    },
    {
      "cell_type": "code",
      "source": [
        "df['Item_Weight'].describe()"
      ],
      "metadata": {
        "colab": {
          "base_uri": "https://localhost:8080/"
        },
        "id": "sqIE7HSaVul-",
        "outputId": "9c465032-4f9a-47d6-9e19-b39e3a481c06"
      },
      "execution_count": 55,
      "outputs": [
        {
          "output_type": "execute_result",
          "data": {
            "text/plain": [
              "count    8523.00000\n",
              "mean       12.81342\n",
              "std         4.22724\n",
              "min         4.55500\n",
              "25%         9.31000\n",
              "50%        12.60000\n",
              "75%        16.00000\n",
              "max        21.35000\n",
              "Name: Item_Weight, dtype: float64"
            ]
          },
          "metadata": {},
          "execution_count": 55
        }
      ]
    },
    {
      "cell_type": "markdown",
      "source": [
        "Visualize the data."
      ],
      "metadata": {
        "id": "arEyK0S0zLlP"
      }
    },
    {
      "cell_type": "code",
      "source": [
        "ax = df['Item_Weight'].hist(bins = 30, edgecolor = 'black')\n",
        "ax.tick_params(axis='x', rotation=45)\n",
        "ax.ticklabel_format(style='plain');\n",
        "ax.set_title('Distribution of Item Weights')\n",
        "ax.set_xlabel('Weight')\n",
        "ax.set_ylabel('Number of Items');"
      ],
      "metadata": {
        "colab": {
          "base_uri": "https://localhost:8080/",
          "height": 489
        },
        "id": "Pn05Uz_UVzJz",
        "outputId": "eea01bbe-bece-478f-a38d-2f23659f158f"
      },
      "execution_count": 59,
      "outputs": [
        {
          "output_type": "display_data",
          "data": {
            "text/plain": [
              "<Figure size 640x480 with 1 Axes>"
            ],
            "image/png": "[encoded data removed]"
          },
          "metadata": {}
        }
      ]
    },
    {
      "cell_type": "markdown",
      "source": [
        "* The number of items with a weight of 12.5 seems to be about 6-7 times greater than the average weight of all other items sold."
      ],
      "metadata": {
        "id": "6EyKGZj7gt0E"
      }
    },
    {
      "cell_type": "markdown",
      "source": [
        "#### Item_Visibility\n",
        "Describe the column to view the summary statistics."
      ],
      "metadata": {
        "id": "c5P8u2MSOaLK"
      }
    },
    {
      "cell_type": "code",
      "source": [
        "df['Item_Visibility'].describe()"
      ],
      "metadata": {
        "colab": {
          "base_uri": "https://localhost:8080/"
        },
        "id": "uyyZWhspXP9K",
        "outputId": "64d2feac-668e-439d-ecfb-818558a64a27"
      },
      "execution_count": 60,
      "outputs": [
        {
          "output_type": "execute_result",
          "data": {
            "text/plain": [
              "count    8523.000000\n",
              "mean        0.066132\n",
              "std         0.051598\n",
              "min         0.000000\n",
              "25%         0.026989\n",
              "50%         0.053931\n",
              "75%         0.094585\n",
              "max         0.328391\n",
              "Name: Item_Visibility, dtype: float64"
            ]
          },
          "metadata": {},
          "execution_count": 60
        }
      ]
    },
    {
      "cell_type": "markdown",
      "source": [
        "Visualize the data."
      ],
      "metadata": {
        "id": "Ibq3KTIYzM9e"
      }
    },
    {
      "cell_type": "code",
      "source": [
        "ax = df['Item_Visibility'].hist(bins=30, edgecolor = 'black')\n",
        "ax.set_title('Distribution of Item Visibility')\n",
        "ax.set_ylabel('Number of Items')\n",
        "ax.set_xlabel(\"Fraction of Stores' Total Display Area\");"
      ],
      "metadata": {
        "colab": {
          "base_uri": "https://localhost:8080/",
          "height": 472
        },
        "id": "YE-KPKndOlkn",
        "outputId": "e5b4f8b4-9a4d-4b21-e5de-6f2607154322"
      },
      "execution_count": 65,
      "outputs": [
        {
          "output_type": "display_data",
          "data": {
            "text/plain": [
              "<Figure size 640x480 with 1 Axes>"
            ],
            "image/png": "[encoded data removed]"
          },
          "metadata": {}
        }
      ]
    },
    {
      "cell_type": "markdown",
      "source": [
        "* Most items sold fall between 0% to 5%. All other ranges of 5% blocks decrease steadily until around 20% where the number of items with large shares of display area are minimal.  "
      ],
      "metadata": {
        "id": "uU6EE8lnQzYd"
      }
    },
    {
      "cell_type": "markdown",
      "source": [
        "#### Item _MRP\n",
        "Describe the column to view the summary statistics."
      ],
      "metadata": {
        "id": "rBELISzoYDGi"
      }
    },
    {
      "cell_type": "code",
      "source": [
        "df['Item_MRP'].describe()"
      ],
      "metadata": {
        "colab": {
          "base_uri": "https://localhost:8080/"
        },
        "id": "2KXWBCz2YIFf",
        "outputId": "db2040c5-eeed-474e-b5ab-79bc8cacb742"
      },
      "execution_count": 63,
      "outputs": [
        {
          "output_type": "execute_result",
          "data": {
            "text/plain": [
              "count    8523.000000\n",
              "mean      140.992782\n",
              "std        62.275067\n",
              "min        31.290000\n",
              "25%        93.826500\n",
              "50%       143.012800\n",
              "75%       185.643700\n",
              "max       266.888400\n",
              "Name: Item_MRP, dtype: float64"
            ]
          },
          "metadata": {},
          "execution_count": 63
        }
      ]
    },
    {
      "cell_type": "markdown",
      "source": [
        "Visualize the data."
      ],
      "metadata": {
        "id": "iU61grvLzOUu"
      }
    },
    {
      "cell_type": "code",
      "source": [
        "ax = df['Item_MRP'].hist(bins=30, edgecolor = 'black')\n",
        "ax.set_title('Distribution of Item MRP')\n",
        "ax.set_ylabel('Number of Items')\n",
        "ax.set_xlabel(\"Item MRP\");"
      ],
      "metadata": {
        "colab": {
          "base_uri": "https://localhost:8080/",
          "height": 472
        },
        "id": "k1pl_dDUgfdt",
        "outputId": "e3413ef2-5cfe-4265-db41-a97968527535"
      },
      "execution_count": 66,
      "outputs": [
        {
          "output_type": "display_data",
          "data": {
            "text/plain": [
              "<Figure size 640x480 with 1 Axes>"
            ],
            "image/png": "[encoded data removed]"
          },
          "metadata": {}
        }
      ]
    },
    {
      "cell_type": "markdown",
      "source": [
        "* There appears to four sections of item prices: Cheap. Medium. High. Very High.\n",
        "* Between each section there is a small but fairly distint gap between them. "
      ],
      "metadata": {
        "id": "YRZL7_4ciKYx"
      }
    },
    {
      "cell_type": "markdown",
      "source": [
        "#### Item_Outlet_Sales\n",
        "Compare sales between each store."
      ],
      "metadata": {
        "id": "5bg__S2XXfi-"
      }
    },
    {
      "cell_type": "markdown",
      "source": [
        "Visualize the data."
      ],
      "metadata": {
        "id": "-uWN0wVVzPYG"
      }
    },
    {
      "cell_type": "code",
      "source": [
        "ax = sns.barplot(data=df, y='Item_Outlet_Sales', x='Outlet_Identifier')\n",
        "ax.tick_params(axis='x', rotation=45)\n",
        "ax.set_title('Item Outlet Sales per Outlet')\n",
        "ax.set_xlabel('Outlet Identifier')\n",
        "ax.set_ylabel('Item Outlet Sales');"
      ],
      "metadata": {
        "colab": {
          "base_uri": "https://localhost:8080/",
          "height": 507
        },
        "id": "OUJGcd2iXsas",
        "outputId": "03f31056-f69b-4436-ccba-d0c40108bf49"
      },
      "execution_count": 67,
      "outputs": [
        {
          "output_type": "display_data",
          "data": {
            "text/plain": [
              "<Figure size 640x480 with 1 Axes>"
            ],
            "image/png": "[encoded data removed]"
          },
          "metadata": {}
        }
      ]
    },
    {
      "cell_type": "markdown",
      "source": [
        "* Two stores had very little in sales.\n",
        "* One store had approximately 50% more sales than the typical competitor.\n",
        "\n",
        "Insight:\n",
        "* Need to see why the three outliers performed so drastically different.\n",
        "\n",
        "* Test for correlation between other available data in dataset: \n",
        " * Store location\n",
        " * Store size\n",
        " * Store type\n",
        " * Store opening year"
      ],
      "metadata": {
        "id": "yNyDT6aVYJWl"
      }
    },
    {
      "cell_type": "markdown",
      "source": [
        "#### Correlations\n",
        "\n",
        "See if there are any correlations between numeric features."
      ],
      "metadata": {
        "id": "Irh-i3lnVqmp"
      }
    },
    {
      "cell_type": "markdown",
      "source": [
        "Visualize the data."
      ],
      "metadata": {
        "id": "SB--uZjQzRDW"
      }
    },
    {
      "cell_type": "code",
      "source": [
        "# display seaborn heatmap of numerical features\n",
        "sns.heatmap(corr, annot = True);"
      ],
      "metadata": {
        "colab": {
          "base_uri": "https://localhost:8080/",
          "height": 606
        },
        "id": "A0Rh79R75Pej",
        "outputId": "93efb044-e07c-4bab-8d1f-9992026a004b"
      },
      "execution_count": 53,
      "outputs": [
        {
          "output_type": "display_data",
          "data": {
            "text/plain": [
              "<Figure size 640x480 with 2 Axes>"
            ],
            "image/png": "[encoded data removed]"
          },
          "metadata": {}
        }
      ]
    },
    {
      "cell_type": "markdown",
      "source": [
        "* We can see that there is a positive and \"moderate\" correlation between the Item_MRP (Maximum Retail Price) and the Item_Outlet_Sales (Sales of a product in a particular store). \n",
        "\n",
        "Insight:\n",
        "* The higher the price of an item, the better its overall sales are."
      ],
      "metadata": {
        "id": "edQsXLtMC5L9"
      }
    },
    {
      "cell_type": "markdown",
      "source": [
        "### Categorical Nominal"
      ],
      "metadata": {
        "id": "y8bfMIFe5srl"
      }
    },
    {
      "cell_type": "markdown",
      "source": [
        "#### Low Fat vs Regular\n",
        "Compare sales for Regular/Low Fat items at each store location."
      ],
      "metadata": {
        "id": "CeW65l5SG2tt"
      }
    },
    {
      "cell_type": "markdown",
      "source": [
        "Visualize the data."
      ],
      "metadata": {
        "id": "A-TJiHT4zST0"
      }
    },
    {
      "cell_type": "code",
      "source": [
        "ax = sns.barplot(data=df, y='Item_Outlet_Sales', x='Outlet_Identifier', hue='Item_Fat_Content')\n",
        "ax.legend(loc='upper right')\n",
        "ax.tick_params(axis='x', rotation=45)\n",
        "ax.set_title('Sales of Regular & Low Fat Items at Each Store')\n",
        "ax.set_xlabel('Store Identifier')\n",
        "ax.set_ylabel('Item Sales');"
      ],
      "metadata": {
        "colab": {
          "base_uri": "https://localhost:8080/",
          "height": 507
        },
        "id": "JDDOwxdQG06q",
        "outputId": "44cec56a-709e-456e-e269-d0cded87f57e"
      },
      "execution_count": 69,
      "outputs": [
        {
          "output_type": "display_data",
          "data": {
            "text/plain": [
              "<Figure size 640x480 with 1 Axes>"
            ],
            "image/png": "[encoded data removed]"
          },
          "metadata": {}
        }
      ]
    },
    {
      "cell_type": "markdown",
      "source": [
        "* Sales between Low Fat & Regular items are sold about equally at each store.\n",
        "Insight:\n",
        "* It seems important to carry both Regular and Low Fat items."
      ],
      "metadata": {
        "id": "swlriaEuK3_2"
      }
    },
    {
      "cell_type": "markdown",
      "source": [
        "#### Item Type\n",
        "Compare sales for each product category."
      ],
      "metadata": {
        "id": "Cxb9a2YoLSOy"
      }
    },
    {
      "cell_type": "markdown",
      "source": [
        "Visualize the data."
      ],
      "metadata": {
        "id": "g2EbDPuJzTgD"
      }
    },
    {
      "cell_type": "code",
      "source": [
        "ax = sns.barplot(data=df, y='Item_Outlet_Sales', x='Item_Type')\n",
        "ax.tick_params(axis='x', rotation=90)\n",
        "ax.set_title('Sales for Each Product Category')\n",
        "ax.set_ylabel('Item Sales');"
      ],
      "metadata": {
        "colab": {
          "base_uri": "https://localhost:8080/",
          "height": 607
        },
        "id": "bX8ir8GwMBCD",
        "outputId": "8687fedf-d804-40f5-db04-59d6cec72f08"
      },
      "execution_count": 70,
      "outputs": [
        {
          "output_type": "display_data",
          "data": {
            "text/plain": [
              "<Figure size 640x480 with 1 Axes>"
            ],
            "image/png": "[encoded data removed]"
          },
          "metadata": {}
        }
      ]
    },
    {
      "cell_type": "markdown",
      "source": [
        "* Sales between each category seem to be fairly even overall. \n",
        "* No particular category should be removed from inventory due to poor sales.\n",
        "* No particular category should be expanded drastically due to exceptionally high sales."
      ],
      "metadata": {
        "id": "-c9iyAomNG3J"
      }
    },
    {
      "cell_type": "markdown",
      "source": [
        "### Categorical Ordinal"
      ],
      "metadata": {
        "id": "YPwVJKQi5ydf"
      }
    },
    {
      "cell_type": "markdown",
      "source": [
        "#### Store Location Type"
      ],
      "metadata": {
        "id": "7-6nl-TGa8J8"
      }
    },
    {
      "cell_type": "markdown",
      "source": [
        "Visualize the data."
      ],
      "metadata": {
        "id": "G0lHlYcJzUlj"
      }
    },
    {
      "cell_type": "code",
      "source": [
        "ax = sns.boxplot(data=df, \n",
        "                 x='Outlet_Identifier', y='Item_Outlet_Sales', \n",
        "                 hue='Outlet_Location_Type', hue_order = ['Tier 1','Tier 2','Tier 3'], palette='rocket_r')\n",
        "ax.set(\n",
        "    title='Store Location Type vs Item Sales',\n",
        "    xlabel='Unique Store Identifier',\n",
        "    ylabel='Item Outlet Sales'\n",
        "    )\n",
        "ax.tick_params(axis='x', rotation=70);"
      ],
      "metadata": {
        "colab": {
          "base_uri": "https://localhost:8080/",
          "height": 515
        },
        "id": "vuu4u0xhWcXc",
        "outputId": "2854fd92-62fc-4337-aaa4-ad0e30d5ca59"
      },
      "execution_count": 71,
      "outputs": [
        {
          "output_type": "display_data",
          "data": {
            "text/plain": [
              "<Figure size 640x480 with 1 Axes>"
            ],
            "image/png": "[encoded data removed]"
          },
          "metadata": {}
        }
      ]
    },
    {
      "cell_type": "markdown",
      "source": [
        "* There does not seem to be any correlation between the store's location type and it's item sales."
      ],
      "metadata": {
        "id": "MZIsEUFRbO8y"
      }
    },
    {
      "cell_type": "markdown",
      "source": [
        "#### Store Type & Location Type"
      ],
      "metadata": {
        "id": "ZyG82tJ_buYl"
      }
    },
    {
      "cell_type": "markdown",
      "source": [
        "Visualize the data."
      ],
      "metadata": {
        "id": "IQ74zjp4zVoi"
      }
    },
    {
      "cell_type": "code",
      "source": [
        "#  \n",
        "ax = sns.barplot(data=df, x='Outlet_Type', y='Item_Outlet_Sales', hue='Outlet_Location_Type', order=['Grocery Store', 'Supermarket Type1','Supermarket Type2','Supermarket Type3']) \n",
        "ax.legend(loc='upper left')\n",
        "ax.set(title='Item Sales by Store Location Type & Store Type')\n",
        "ax.tick_params(axis='x', rotation=45)"
      ],
      "metadata": {
        "colab": {
          "base_uri": "https://localhost:8080/",
          "height": 563
        },
        "id": "BfL4RGmeejaw",
        "outputId": "935a6022-3722-401a-95a7-0c12c9c697ab"
      },
      "execution_count": 73,
      "outputs": [
        {
          "output_type": "display_data",
          "data": {
            "text/plain": [
              "<Figure size 640x480 with 1 Axes>"
            ],
            "image/png": "[encoded data removed]"
          },
          "metadata": {}
        }
      ]
    },
    {
      "cell_type": "markdown",
      "source": [
        "* Grocery Stores, regardless of location type, have much lower item sales than any type of supermarket.\n",
        "* Supermarket Type3 has the highest item sales. This appears to be independant from the location type, as item sales at Tier 3 locations covers the full range of item sales (from min, to max with most around the graph's mean value) in this dataset."
      ],
      "metadata": {
        "id": "dm-CbEbrf9Qx"
      }
    },
    {
      "cell_type": "markdown",
      "source": [
        "#### Store Location, Type & Size"
      ],
      "metadata": {
        "id": "rBepQ24BmG6w"
      }
    },
    {
      "cell_type": "markdown",
      "source": [
        "Visualize the data."
      ],
      "metadata": {
        "id": "iUujT5ZSzWrh"
      }
    },
    {
      "cell_type": "code",
      "source": [
        "ax = sns.relplot(data=df, \n",
        "                 x='Outlet_Identifier', y='Item_Outlet_Sales', \n",
        "                 hue='Outlet_Location_Type', hue_order = ['Tier 1','Tier 2','Tier 3'], palette='rocket_r', \n",
        "                 size='Outlet_Size', size_order = ['Large', 'Medium', 'Small'], markers=['>','o','d','^'],\n",
        "                 style='Outlet_Type', style_order = ['Grocery Store', 'Supermarket Type1', 'Supermarket Type2', 'Supermarket Type3'],\n",
        "                 sizes= (15, 180), alpha= 0.60)\n",
        "ax.set_axis_labels('Unique Store Identifier','Item Sales in Each Store')\n",
        "ax.set(title='Store Location, Type & Size')\n",
        "ax.tick_params(axis='x', rotation=70);"
      ],
      "metadata": {
        "colab": {
          "base_uri": "https://localhost:8080/",
          "height": 572
        },
        "id": "M-3FzHbJE_Kl",
        "outputId": "e3e0d13a-4af5-47c1-dae4-97af9ab68727"
      },
      "execution_count": 115,
      "outputs": [
        {
          "output_type": "display_data",
          "data": {
            "text/plain": [
              "<Figure size 685.125x500 with 1 Axes>"
            ],
            "image/png": "[encoded data removed]"
          },
          "metadata": {}
        }
      ]
    },
    {
      "cell_type": "markdown",
      "source": [
        "Despite being a bit overly-complicated, we can notice the following in regards to store location, type and size:\n",
        "* The outlet size does not correlate to item sales, at all.\n",
        "* Outlet location type does not correlate to item sales. \n",
        "* Outlet Supermarket Types 1 & 2 do not correlate to item sales.\n",
        "* Outlet type \"Grocery Store\" does correlate to low item sales, as there are two stores of that type included in this dataset.\n",
        "* Outlet type \"Supermarket Type3\" does correlate to higher item sales, but there is only one store of that type included in the dataset."
      ],
      "metadata": {
        "id": "GKoKQK3zcUof"
      }
    },
    {
      "cell_type": "markdown",
      "source": [
        "A \"value_counts\" query on the \"Outlet_Identifier\" column will verify that OUT013 is the only \"Large\" outlet in the dataset."
      ],
      "metadata": {
        "id": "2ef1d5SUeYeW"
      }
    },
    {
      "cell_type": "code",
      "source": [
        "df.groupby('Outlet_Identifier')['Outlet_Size'].value_counts()"
      ],
      "metadata": {
        "colab": {
          "base_uri": "https://localhost:8080/"
        },
        "id": "XHzV5CnZZDjG",
        "outputId": "5641a596-9fc3-4bc4-fa57-d862083d231b"
      },
      "execution_count": 109,
      "outputs": [
        {
          "output_type": "execute_result",
          "data": {
            "text/plain": [
              "Outlet_Identifier  Outlet_Size\n",
              "OUT010             Medium         555\n",
              "OUT013             Large          932\n",
              "OUT017             Medium         926\n",
              "OUT018             Medium         928\n",
              "OUT019             Small          528\n",
              "OUT027             Medium         935\n",
              "OUT035             Small          930\n",
              "OUT045             Medium         929\n",
              "OUT046             Small          930\n",
              "OUT049             Medium         930\n",
              "Name: Outlet_Size, dtype: int64"
            ]
          },
          "metadata": {},
          "execution_count": 109
        }
      ]
    }
  ]
}