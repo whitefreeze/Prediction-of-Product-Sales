{
  "nbformat": 4,
  "nbformat_minor": 0,
  "metadata": {
    "colab": {
      "provenance": [],
      "authorship_tag": "ABX9TyPvHMQF5H6BI69HxQeZvOio",
      "include_colab_link": true
    },
    "kernelspec": {
      "name": "python3",
      "display_name": "Python 3"
    },
    "language_info": {
      "name": "python"
    }
  },
  "cells": [
    {
      "cell_type": "markdown",
      "metadata": {
        "id": "view-in-github",
        "colab_type": "text"
      },
      "source": [
        "<a href=\"https://colab.research.google.com/github/whitefreeze/Prediction-of-Product-Sales/blob/main/Prediction_of_Product_Sales.ipynb\" target=\"_parent\"><img src=\"https://colab.research.google.com/assets/colab-badge.svg\" alt=\"Open In Colab\"/></a>"
      ]
    },
    {
      "cell_type": "markdown",
      "source": [
        "# Prediction of Product Sales\n",
        "Josh Blackburn\n",
        "## Project Overview\n",
        "\n",
        "\n",
        "\n"
      ],
      "metadata": {
        "id": "F1ErkgpzF2sc"
      }
    },
    {
      "cell_type": "markdown",
      "source": [
        "## Load and Inspect Data"
      ],
      "metadata": {
        "id": "hguG2OoYJssP"
      }
    },
    {
      "cell_type": "code",
      "execution_count": null,
      "metadata": {
        "id": "m6MRS60wFyjb"
      },
      "outputs": [],
      "source": []
    },
    {
      "cell_type": "markdown",
      "source": [
        "## Clean Data\n"
      ],
      "metadata": {
        "id": "TQsch3FyJjEp"
      }
    },
    {
      "cell_type": "code",
      "source": [],
      "metadata": {
        "id": "QycFC9T5Jkzg"
      },
      "execution_count": null,
      "outputs": []
    },
    {
      "cell_type": "markdown",
      "source": [
        "## Exploratory Data Analysis\n"
      ],
      "metadata": {
        "id": "mYxg9qyMJlBD"
      }
    },
    {
      "cell_type": "code",
      "source": [],
      "metadata": {
        "id": "l7I3-EOPJm4y"
      },
      "execution_count": null,
      "outputs": []
    },
    {
      "cell_type": "markdown",
      "source": [
        "## Explanatory Data Analysis"
      ],
      "metadata": {
        "id": "4VlgkplDJnDE"
      }
    },
    {
      "cell_type": "code",
      "source": [],
      "metadata": {
        "id": "dMyWlxsGJnfa"
      },
      "execution_count": null,
      "outputs": []
    }
  ]
}